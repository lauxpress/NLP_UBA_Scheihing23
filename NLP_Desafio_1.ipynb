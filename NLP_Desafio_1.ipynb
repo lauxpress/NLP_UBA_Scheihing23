{
  "cells": [
    {
      "cell_type": "markdown",
      "metadata": {
        "id": "view-in-github",
        "colab_type": "text"
      },
      "source": [
        "<a href=\"https://colab.research.google.com/github/lauxpress/NLP_UBA_Scheihing23/blob/main/NLP_Desafio_1.ipynb\" target=\"_parent\"><img src=\"https://colab.research.google.com/assets/colab-badge.svg\" alt=\"Open In Colab\"/></a>"
      ]
    },
    {
      "cell_type": "markdown",
      "metadata": {
        "id": "Ue5hxxkdAQJg"
      },
      "source": [
        "<img src=\"https://github.com/FIUBA-Posgrado-Inteligencia-Artificial/procesamiento_lenguaje_natural/raw/main/logoFIUBA.jpg\" width=\"500\" align=\"center\">\n",
        "\n",
        "\n",
        "# Procesamiento de lenguaje natural\n",
        "## Vectorización\n"
      ]
    },
    {
      "cell_type": "code",
      "execution_count": null,
      "metadata": {
        "id": "kCED1hh-Ioyf"
      },
      "outputs": [],
      "source": [
        "import numpy as np"
      ]
    },
    {
      "cell_type": "code",
      "execution_count": null,
      "metadata": {
        "id": "PUbfVnzIIoMj"
      },
      "outputs": [],
      "source": [
        "def cosine_similarity(a, b):\n",
        "    return np.dot(a, b) / (np.linalg.norm(a) * (np.linalg.norm(b)))"
      ]
    },
    {
      "cell_type": "markdown",
      "metadata": {
        "id": "DMOa4JPSCJ29"
      },
      "source": [
        "### Datos"
      ]
    },
    {
      "cell_type": "code",
      "execution_count": null,
      "metadata": {
        "id": "RIO7b8GjAC17"
      },
      "outputs": [],
      "source": [
        "corpus = np.array(['que dia es hoy', 'martes el dia de hoy es martes', 'martes muchas gracias'])"
      ]
    },
    {
      "cell_type": "markdown",
      "metadata": {
        "id": "8WqdaTmO8P1r"
      },
      "source": [
        "Documento 1 --> que dia es hoy \\\n",
        "Documento 2 --> martes el dia de hoy es martes \\\n",
        "Documento 3 --> martes muchas gracias"
      ]
    },
    {
      "cell_type": "markdown",
      "metadata": {
        "id": "FVHxBRNzCMOS"
      },
      "source": [
        "### 1 - Obtener el vocabulario del corpus (los términos utilizados)\n",
        "- Cada documento transformarlo en una lista de términos\n",
        "- Armar un vector de términos no repetidos de todos los documentos"
      ]
    },
    {
      "cell_type": "markdown",
      "source": [
        "Primero transofrmamos los documentos en una lista de terminos:"
      ],
      "metadata": {
        "id": "T15hoNfIJbAb"
      }
    },
    {
      "cell_type": "code",
      "execution_count": null,
      "metadata": {
        "id": "3ZqTOZzDI7uv",
        "colab": {
          "base_uri": "https://localhost:8080/"
        },
        "outputId": "e4456fa5-7b3d-4616-ed67-ef79c8a67517"
      },
      "outputs": [
        {
          "output_type": "stream",
          "name": "stdout",
          "text": [
            "['que', 'dia', 'es', 'hoy'] ['martes', 'el', 'dia', 'de', 'hoy', 'es', 'martes'] ['martes', 'muchas', 'gracias']\n"
          ]
        }
      ],
      "source": [
        "doc1 = corpus[0].split()\n",
        "doc2 = corpus[1].split()\n",
        "doc3 = corpus[2].split()\n",
        "print (doc1, doc2, doc3)"
      ]
    },
    {
      "cell_type": "markdown",
      "source": [
        "ahora los juntamos a todos en una lista y nos quedamos con una unica repeticion de cada termino"
      ],
      "metadata": {
        "id": "dkZTlg1_JhXC"
      }
    },
    {
      "cell_type": "code",
      "source": [
        "unicas = set()\n",
        "unicas.update(doc1 + doc2 + doc3)\n",
        "vocabulario = list(unicas)\n",
        "print(vocabulario)"
      ],
      "metadata": {
        "colab": {
          "base_uri": "https://localhost:8080/"
        },
        "id": "y2zxxHXCJgtU",
        "outputId": "0386eae2-cf5a-4944-86d4-22abfa768d7c"
      },
      "execution_count": null,
      "outputs": [
        {
          "output_type": "stream",
          "name": "stdout",
          "text": [
            "['hoy', 'que', 'muchas', 'el', 'es', 'de', 'martes', 'gracias', 'dia']\n"
          ]
        }
      ]
    },
    {
      "cell_type": "markdown",
      "metadata": {
        "id": "RUhH983FI7It"
      },
      "source": [
        "### 2- OneHot encoding\n",
        "Data una lista de textos, devolver una matriz con la representación oneHotEncoding de estos"
      ]
    },
    {
      "cell_type": "code",
      "execution_count": null,
      "metadata": {
        "id": "Os0AAQo6I6Z1",
        "colab": {
          "base_uri": "https://localhost:8080/"
        },
        "outputId": "3b0f5e85-c485-4871-9716-80a124ca7d84"
      },
      "outputs": [
        {
          "output_type": "stream",
          "name": "stdout",
          "text": [
            "Vocabulary: ['hoy', 'que', 'muchas', 'el', 'es', 'de', 'martes', 'gracias', 'dia']\n",
            "One-Hot Encodings:\n",
            "[[1 1 0 0 1 0 0 0 1]\n",
            " [1 0 0 1 1 1 1 0 1]\n",
            " [0 0 1 0 0 0 1 1 0]]\n"
          ]
        }
      ],
      "source": [
        "tokens = [sentence.split() for sentence in corpus]\n",
        "\n",
        "\n",
        "# Step 2: Create one-hot encodings\n",
        "one_hot_encodings = []\n",
        "\n",
        "for sentence in tokens:\n",
        "    one_hot_encoding = [1 if word in sentence else 0 for word in vocabulario]\n",
        "    one_hot_encodings.append(one_hot_encoding)\n",
        "\n",
        "# Convert the one-hot encodings to a numpy array\n",
        "one_hot_encodings = np.array(one_hot_encodings)\n",
        "\n",
        "# Print the vocabulary and one-hot encodings\n",
        "print(\"Vocabulary:\", vocabulario)\n",
        "print(\"One-Hot Encodings:\")\n",
        "print(one_hot_encodings)"
      ]
    },
    {
      "cell_type": "markdown",
      "metadata": {
        "id": "IIyWGmCpJVQL"
      },
      "source": [
        "### 3- Vectores de frecuencia\n",
        "Data una lista de textos, devolver una matriz con la representación de frecuencia de estos"
      ]
    },
    {
      "cell_type": "code",
      "execution_count": null,
      "metadata": {
        "id": "yqij_7eHJbUi",
        "colab": {
          "base_uri": "https://localhost:8080/"
        },
        "outputId": "e423b914-24f5-41ee-8970-ed8901dd5d13"
      },
      "outputs": [
        {
          "output_type": "stream",
          "name": "stdout",
          "text": [
            "                                de  dia  el  es  gracias  hoy  martes  muchas  \\\n",
            "Sentence                                                                        \n",
            "que dia es hoy                   0    1   0   1        0    1       0       0   \n",
            "martes el dia de hoy es martes   1    1   1   1        0    1       2       0   \n",
            "martes muchas gracias            0    0   0   0        1    0       1       1   \n",
            "\n",
            "                                que  \n",
            "Sentence                             \n",
            "que dia es hoy                    1  \n",
            "martes el dia de hoy es martes    0  \n",
            "martes muchas gracias             0  \n"
          ]
        }
      ],
      "source": [
        "from sklearn.feature_extraction.text import CountVectorizer\n",
        "import pandas as pd\n",
        "\n",
        "vectorizer = CountVectorizer()\n",
        "\n",
        "vectorizer.fit(corpus)\n",
        "\n",
        "X = vectorizer.transform(corpus)\n",
        "\n",
        "matrix = X.toarray()\n",
        "\n",
        "word_frequencies = pd.DataFrame(matrix, columns=vectorizer.get_feature_names_out())\n",
        "word_frequencies['Sentence'] = corpus\n",
        "word_frequencies.set_index('Sentence', inplace=True)\n",
        "\n",
        "\n",
        "print(word_frequencies)"
      ]
    },
    {
      "cell_type": "markdown",
      "metadata": {
        "id": "z_Ot8HvWJcBu"
      },
      "source": [
        "### 4- TF-IDF\n",
        "Data una lista de textos, devolver una matriz con la representacion TFIDF"
      ]
    },
    {
      "cell_type": "code",
      "execution_count": null,
      "metadata": {
        "id": "waG_oWtpJjRw",
        "colab": {
          "base_uri": "https://localhost:8080/"
        },
        "outputId": "a4ccfbb0-46df-469c-9d6b-dff2dd947954"
      },
      "outputs": [
        {
          "output_type": "stream",
          "name": "stdout",
          "text": [
            "                                      de       dia        el        es  \\\n",
            "Sentence                                                                 \n",
            "que dia es hoy                  0.000000  0.459854  0.000000  0.459854   \n",
            "martes el dia de hoy es martes  0.406598  0.309228  0.406598  0.309228   \n",
            "martes muchas gracias           0.000000  0.000000  0.000000  0.000000   \n",
            "\n",
            "                                 gracias       hoy    martes    muchas  \\\n",
            "Sentence                                                                 \n",
            "que dia es hoy                  0.000000  0.459854  0.000000  0.000000   \n",
            "martes el dia de hoy es martes  0.000000  0.309228  0.618457  0.000000   \n",
            "martes muchas gracias           0.622766  0.000000  0.473630  0.622766   \n",
            "\n",
            "                                     que  \n",
            "Sentence                                  \n",
            "que dia es hoy                  0.604652  \n",
            "martes el dia de hoy es martes  0.000000  \n",
            "martes muchas gracias           0.000000  \n"
          ]
        }
      ],
      "source": [
        "from sklearn.feature_extraction.text import TfidfVectorizer\n",
        "import pandas as pd\n",
        "\n",
        "vectorizer = TfidfVectorizer()\n",
        "\n",
        "tfidf_matrix = vectorizer.fit_transform(corpus)\n",
        "\n",
        "tfidf_array = tfidf_matrix.toarray()\n",
        "\n",
        "\n",
        "tfidf_table = pd.DataFrame(tfidf_array, columns=vectorizer.get_feature_names_out())\n",
        "tfidf_table['Sentence'] = corpus\n",
        "tfidf_table.set_index('Sentence', inplace=True)\n",
        "\n",
        "\n",
        "print(tfidf_table)"
      ]
    },
    {
      "cell_type": "markdown",
      "metadata": {
        "id": "xMcsfndWJjm_"
      },
      "source": [
        "### 5 - Comparación de documentos\n",
        "Realizar una funcion que reciba el corpus y el índice de un documento y devuelva los documentos ordenados por la similitud coseno"
      ]
    },
    {
      "cell_type": "code",
      "execution_count": null,
      "metadata": {
        "id": "CZdiop6IJpZN",
        "colab": {
          "base_uri": "https://localhost:8080/"
        },
        "outputId": "daf2c2ce-767e-46a3-f7f4-651ebd0ba1b8"
      },
      "outputs": [
        {
          "output_type": "stream",
          "name": "stdout",
          "text": [
            "Documento 1: que dia es hoy\n",
            "Documento 2: martes el dia de hoy es martes\n",
            "Documento 3: martes muchas gracias\n"
          ]
        }
      ],
      "source": [
        "import numpy as np\n",
        "from sklearn.feature_extraction.text import CountVectorizer\n",
        "from sklearn.metrics.pairwise import cosine_similarity\n",
        "\n",
        "def ordenar_por_similitud(corpus, indice_documento):\n",
        "    # Inicializar un vectorizador de texto\n",
        "    vectorizador = CountVectorizer()\n",
        "\n",
        "    # Ajustar y transformar el corpus en una matriz de términos de documentos\n",
        "    matriz_tfidf = vectorizador.fit_transform(corpus)\n",
        "\n",
        "    # Calcular la matriz de similitud coseno\n",
        "    similitud = cosine_similarity(matriz_tfidf)\n",
        "\n",
        "    # Obtener las puntuaciones de similitud para el documento en el índice especificado\n",
        "    similitud_documento = similitud[indice_documento]\n",
        "\n",
        "    # Ordenar los documentos por similitud coseno en orden descendente\n",
        "    indices_ordenados = similitud_documento.argsort()[::-1]\n",
        "\n",
        "    # Obtener los documentos ordenados\n",
        "    documentos_ordenados = [corpus[i] for i in indices_ordenados]\n",
        "\n",
        "    return documentos_ordenados\n",
        "\n",
        "corpus = np.array(['que dia es hoy', 'martes el dia de hoy es martes', 'martes muchas gracias'])\n",
        "indice_documento = 0  # Cambia el índice según el documento que desees comparar\n",
        "\n",
        "documentos_ordenados = ordenar_por_similitud(corpus, indice_documento)\n",
        "\n",
        "for i, documento in enumerate(documentos_ordenados):\n",
        "    print(f\"Documento {i + 1}: {documento}\")"
      ]
    }
  ],
  "metadata": {
    "colab": {
      "provenance": [],
      "include_colab_link": true
    },
    "kernelspec": {
      "display_name": "Python 3",
      "name": "python3"
    },
    "language_info": {
      "name": "python"
    }
  },
  "nbformat": 4,
  "nbformat_minor": 0
}