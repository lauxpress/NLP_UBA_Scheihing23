{
  "nbformat": 4,
  "nbformat_minor": 0,
  "metadata": {
    "colab": {
      "provenance": [],
      "authorship_tag": "ABX9TyO6yrEgS4hXnoVfi6wcokgG",
      "include_colab_link": true
    },
    "kernelspec": {
      "name": "python3",
      "display_name": "Python 3"
    },
    "language_info": {
      "name": "python"
    }
  },
  "cells": [
    {
      "cell_type": "markdown",
      "metadata": {
        "id": "view-in-github",
        "colab_type": "text"
      },
      "source": [
        "<a href=\"https://colab.research.google.com/github/lauxpress/NLP_UBA_Scheihing23/blob/main/NLP_Desaf%C3%ADo_3_Scheihing.ipynb\" target=\"_parent\"><img src=\"https://colab.research.google.com/assets/colab-badge.svg\" alt=\"Open In Colab\"/></a>"
      ]
    },
    {
      "cell_type": "markdown",
      "source": [
        "<img src=\"https://github.com/hernancontigiani/ceia_memorias_especializacion/raw/master/Figures/logoFIUBA.jpg\" width=\"500\" align=\"center\">\n",
        "\n",
        "\n",
        "# Procesamiento de lenguaje natural\n",
        "## Word embedding\n",
        "Vamos a realizar un custom embedding con la libreria Gensim"
      ],
      "metadata": {
        "id": "mC0Ez2OeLCKe"
      }
    },
    {
      "cell_type": "code",
      "execution_count": null,
      "metadata": {
        "id": "VAYoT4fS3HtA"
      },
      "outputs": [],
      "source": [
        "import pandas as pd\n",
        "import matplotlib.pyplot as plt\n",
        "import seaborn as sns\n",
        "import spacy\n",
        "import multiprocessing\n",
        "from gensim.models import Word2Vec\n",
        "import re # Regular Expressions (regex)"
      ]
    },
    {
      "cell_type": "code",
      "source": [
        "# Cargar el modelo en inglés\n",
        "nlp = spacy.load('en_core_web_sm')\n",
        "\n",
        "# Leer el archivo de texto\n",
        "with open('/content/ontheroad_cap1.txt', 'r', encoding='utf-8') as file:\n",
        "    text = file.read()\n",
        "\n",
        "# Substituir\n",
        "text = re.sub(r'«', '»',text)"
      ],
      "metadata": {
        "id": "wcP__VVsXaHC"
      },
      "execution_count": null,
      "outputs": []
    },
    {
      "cell_type": "code",
      "source": [
        "# Procesar el texto con spaCy para obtener las oraciones\n",
        "doc = nlp(text)\n",
        "sentences = [sent.text for sent in doc.sents]\n",
        "\n",
        "# Crear un DataFrame con las oraciones\n",
        "df = pd.DataFrame(sentences, columns=['Oraciones'])\n",
        "df"
      ],
      "metadata": {
        "colab": {
          "base_uri": "https://localhost:8080/",
          "height": 423
        },
        "id": "9PvEe5PsbvX7",
        "outputId": "89f846f9-b882-4a87-aa06-54ee661fe781"
      },
      "execution_count": null,
      "outputs": [
        {
          "output_type": "execute_result",
          "data": {
            "text/plain": [
              "                                             Oraciones\n",
              "0    I first met Dean not long after my wife and I ...\n",
              "1    I had just gotten over a serious illness that ...\n",
              "2    With the coming of Dean Moriarty began the par...\n",
              "3    Before that I’d often dreamed of going West to...\n",
              "4    Dean is the perfect guy for the road because h...\n",
              "..                                                 ...\n",
              "370  Well, I can take you a hundred miles up the line.\n",
              "371               »\\n»Grand, grand, you saved my life.\n",
              "372  »\\n»I used to hitchhike myself, that’s why I a...\n",
              "373                  »\\n »I would too if I had a car.»\n",
              "374  And so we talked, and he told me about his lif...\n",
              "\n",
              "[375 rows x 1 columns]"
            ],
            "text/html": [
              "\n",
              "  <div id=\"df-9c291674-0bef-4b3b-87f8-11f843bb891f\" class=\"colab-df-container\">\n",
              "    <div>\n",
              "<style scoped>\n",
              "    .dataframe tbody tr th:only-of-type {\n",
              "        vertical-align: middle;\n",
              "    }\n",
              "\n",
              "    .dataframe tbody tr th {\n",
              "        vertical-align: top;\n",
              "    }\n",
              "\n",
              "    .dataframe thead th {\n",
              "        text-align: right;\n",
              "    }\n",
              "</style>\n",
              "<table border=\"1\" class=\"dataframe\">\n",
              "  <thead>\n",
              "    <tr style=\"text-align: right;\">\n",
              "      <th></th>\n",
              "      <th>Oraciones</th>\n",
              "    </tr>\n",
              "  </thead>\n",
              "  <tbody>\n",
              "    <tr>\n",
              "      <th>0</th>\n",
              "      <td>I first met Dean not long after my wife and I ...</td>\n",
              "    </tr>\n",
              "    <tr>\n",
              "      <th>1</th>\n",
              "      <td>I had just gotten over a serious illness that ...</td>\n",
              "    </tr>\n",
              "    <tr>\n",
              "      <th>2</th>\n",
              "      <td>With the coming of Dean Moriarty began the par...</td>\n",
              "    </tr>\n",
              "    <tr>\n",
              "      <th>3</th>\n",
              "      <td>Before that I’d often dreamed of going West to...</td>\n",
              "    </tr>\n",
              "    <tr>\n",
              "      <th>4</th>\n",
              "      <td>Dean is the perfect guy for the road because h...</td>\n",
              "    </tr>\n",
              "    <tr>\n",
              "      <th>...</th>\n",
              "      <td>...</td>\n",
              "    </tr>\n",
              "    <tr>\n",
              "      <th>370</th>\n",
              "      <td>Well, I can take you a hundred miles up the line.</td>\n",
              "    </tr>\n",
              "    <tr>\n",
              "      <th>371</th>\n",
              "      <td>»\\n»Grand, grand, you saved my life.</td>\n",
              "    </tr>\n",
              "    <tr>\n",
              "      <th>372</th>\n",
              "      <td>»\\n»I used to hitchhike myself, that’s why I a...</td>\n",
              "    </tr>\n",
              "    <tr>\n",
              "      <th>373</th>\n",
              "      <td>»\\n »I would too if I had a car.»</td>\n",
              "    </tr>\n",
              "    <tr>\n",
              "      <th>374</th>\n",
              "      <td>And so we talked, and he told me about his lif...</td>\n",
              "    </tr>\n",
              "  </tbody>\n",
              "</table>\n",
              "<p>375 rows × 1 columns</p>\n",
              "</div>\n",
              "    <div class=\"colab-df-buttons\">\n",
              "\n",
              "  <div class=\"colab-df-container\">\n",
              "    <button class=\"colab-df-convert\" onclick=\"convertToInteractive('df-9c291674-0bef-4b3b-87f8-11f843bb891f')\"\n",
              "            title=\"Convert this dataframe to an interactive table.\"\n",
              "            style=\"display:none;\">\n",
              "\n",
              "  <svg xmlns=\"http://www.w3.org/2000/svg\" height=\"24px\" viewBox=\"0 -960 960 960\">\n",
              "    <path d=\"M120-120v-720h720v720H120Zm60-500h600v-160H180v160Zm220 220h160v-160H400v160Zm0 220h160v-160H400v160ZM180-400h160v-160H180v160Zm440 0h160v-160H620v160ZM180-180h160v-160H180v160Zm440 0h160v-160H620v160Z\"/>\n",
              "  </svg>\n",
              "    </button>\n",
              "\n",
              "  <style>\n",
              "    .colab-df-container {\n",
              "      display:flex;\n",
              "      gap: 12px;\n",
              "    }\n",
              "\n",
              "    .colab-df-convert {\n",
              "      background-color: #E8F0FE;\n",
              "      border: none;\n",
              "      border-radius: 50%;\n",
              "      cursor: pointer;\n",
              "      display: none;\n",
              "      fill: #1967D2;\n",
              "      height: 32px;\n",
              "      padding: 0 0 0 0;\n",
              "      width: 32px;\n",
              "    }\n",
              "\n",
              "    .colab-df-convert:hover {\n",
              "      background-color: #E2EBFA;\n",
              "      box-shadow: 0px 1px 2px rgba(60, 64, 67, 0.3), 0px 1px 3px 1px rgba(60, 64, 67, 0.15);\n",
              "      fill: #174EA6;\n",
              "    }\n",
              "\n",
              "    .colab-df-buttons div {\n",
              "      margin-bottom: 4px;\n",
              "    }\n",
              "\n",
              "    [theme=dark] .colab-df-convert {\n",
              "      background-color: #3B4455;\n",
              "      fill: #D2E3FC;\n",
              "    }\n",
              "\n",
              "    [theme=dark] .colab-df-convert:hover {\n",
              "      background-color: #434B5C;\n",
              "      box-shadow: 0px 1px 3px 1px rgba(0, 0, 0, 0.15);\n",
              "      filter: drop-shadow(0px 1px 2px rgba(0, 0, 0, 0.3));\n",
              "      fill: #FFFFFF;\n",
              "    }\n",
              "  </style>\n",
              "\n",
              "    <script>\n",
              "      const buttonEl =\n",
              "        document.querySelector('#df-9c291674-0bef-4b3b-87f8-11f843bb891f button.colab-df-convert');\n",
              "      buttonEl.style.display =\n",
              "        google.colab.kernel.accessAllowed ? 'block' : 'none';\n",
              "\n",
              "      async function convertToInteractive(key) {\n",
              "        const element = document.querySelector('#df-9c291674-0bef-4b3b-87f8-11f843bb891f');\n",
              "        const dataTable =\n",
              "          await google.colab.kernel.invokeFunction('convertToInteractive',\n",
              "                                                    [key], {});\n",
              "        if (!dataTable) return;\n",
              "\n",
              "        const docLinkHtml = 'Like what you see? Visit the ' +\n",
              "          '<a target=\"_blank\" href=https://colab.research.google.com/notebooks/data_table.ipynb>data table notebook</a>'\n",
              "          + ' to learn more about interactive tables.';\n",
              "        element.innerHTML = '';\n",
              "        dataTable['output_type'] = 'display_data';\n",
              "        await google.colab.output.renderOutput(dataTable, element);\n",
              "        const docLink = document.createElement('div');\n",
              "        docLink.innerHTML = docLinkHtml;\n",
              "        element.appendChild(docLink);\n",
              "      }\n",
              "    </script>\n",
              "  </div>\n",
              "\n",
              "\n",
              "<div id=\"df-f25295b0-dd41-4d7e-af93-45c3ace9c0b2\">\n",
              "  <button class=\"colab-df-quickchart\" onclick=\"quickchart('df-f25295b0-dd41-4d7e-af93-45c3ace9c0b2')\"\n",
              "            title=\"Suggest charts\"\n",
              "            style=\"display:none;\">\n",
              "\n",
              "<svg xmlns=\"http://www.w3.org/2000/svg\" height=\"24px\"viewBox=\"0 0 24 24\"\n",
              "     width=\"24px\">\n",
              "    <g>\n",
              "        <path d=\"M19 3H5c-1.1 0-2 .9-2 2v14c0 1.1.9 2 2 2h14c1.1 0 2-.9 2-2V5c0-1.1-.9-2-2-2zM9 17H7v-7h2v7zm4 0h-2V7h2v10zm4 0h-2v-4h2v4z\"/>\n",
              "    </g>\n",
              "</svg>\n",
              "  </button>\n",
              "\n",
              "<style>\n",
              "  .colab-df-quickchart {\n",
              "      --bg-color: #E8F0FE;\n",
              "      --fill-color: #1967D2;\n",
              "      --hover-bg-color: #E2EBFA;\n",
              "      --hover-fill-color: #174EA6;\n",
              "      --disabled-fill-color: #AAA;\n",
              "      --disabled-bg-color: #DDD;\n",
              "  }\n",
              "\n",
              "  [theme=dark] .colab-df-quickchart {\n",
              "      --bg-color: #3B4455;\n",
              "      --fill-color: #D2E3FC;\n",
              "      --hover-bg-color: #434B5C;\n",
              "      --hover-fill-color: #FFFFFF;\n",
              "      --disabled-bg-color: #3B4455;\n",
              "      --disabled-fill-color: #666;\n",
              "  }\n",
              "\n",
              "  .colab-df-quickchart {\n",
              "    background-color: var(--bg-color);\n",
              "    border: none;\n",
              "    border-radius: 50%;\n",
              "    cursor: pointer;\n",
              "    display: none;\n",
              "    fill: var(--fill-color);\n",
              "    height: 32px;\n",
              "    padding: 0;\n",
              "    width: 32px;\n",
              "  }\n",
              "\n",
              "  .colab-df-quickchart:hover {\n",
              "    background-color: var(--hover-bg-color);\n",
              "    box-shadow: 0 1px 2px rgba(60, 64, 67, 0.3), 0 1px 3px 1px rgba(60, 64, 67, 0.15);\n",
              "    fill: var(--button-hover-fill-color);\n",
              "  }\n",
              "\n",
              "  .colab-df-quickchart-complete:disabled,\n",
              "  .colab-df-quickchart-complete:disabled:hover {\n",
              "    background-color: var(--disabled-bg-color);\n",
              "    fill: var(--disabled-fill-color);\n",
              "    box-shadow: none;\n",
              "  }\n",
              "\n",
              "  .colab-df-spinner {\n",
              "    border: 2px solid var(--fill-color);\n",
              "    border-color: transparent;\n",
              "    border-bottom-color: var(--fill-color);\n",
              "    animation:\n",
              "      spin 1s steps(1) infinite;\n",
              "  }\n",
              "\n",
              "  @keyframes spin {\n",
              "    0% {\n",
              "      border-color: transparent;\n",
              "      border-bottom-color: var(--fill-color);\n",
              "      border-left-color: var(--fill-color);\n",
              "    }\n",
              "    20% {\n",
              "      border-color: transparent;\n",
              "      border-left-color: var(--fill-color);\n",
              "      border-top-color: var(--fill-color);\n",
              "    }\n",
              "    30% {\n",
              "      border-color: transparent;\n",
              "      border-left-color: var(--fill-color);\n",
              "      border-top-color: var(--fill-color);\n",
              "      border-right-color: var(--fill-color);\n",
              "    }\n",
              "    40% {\n",
              "      border-color: transparent;\n",
              "      border-right-color: var(--fill-color);\n",
              "      border-top-color: var(--fill-color);\n",
              "    }\n",
              "    60% {\n",
              "      border-color: transparent;\n",
              "      border-right-color: var(--fill-color);\n",
              "    }\n",
              "    80% {\n",
              "      border-color: transparent;\n",
              "      border-right-color: var(--fill-color);\n",
              "      border-bottom-color: var(--fill-color);\n",
              "    }\n",
              "    90% {\n",
              "      border-color: transparent;\n",
              "      border-bottom-color: var(--fill-color);\n",
              "    }\n",
              "  }\n",
              "</style>\n",
              "\n",
              "  <script>\n",
              "    async function quickchart(key) {\n",
              "      const quickchartButtonEl =\n",
              "        document.querySelector('#' + key + ' button');\n",
              "      quickchartButtonEl.disabled = true;  // To prevent multiple clicks.\n",
              "      quickchartButtonEl.classList.add('colab-df-spinner');\n",
              "      try {\n",
              "        const charts = await google.colab.kernel.invokeFunction(\n",
              "            'suggestCharts', [key], {});\n",
              "      } catch (error) {\n",
              "        console.error('Error during call to suggestCharts:', error);\n",
              "      }\n",
              "      quickchartButtonEl.classList.remove('colab-df-spinner');\n",
              "      quickchartButtonEl.classList.add('colab-df-quickchart-complete');\n",
              "    }\n",
              "    (() => {\n",
              "      let quickchartButtonEl =\n",
              "        document.querySelector('#df-f25295b0-dd41-4d7e-af93-45c3ace9c0b2 button');\n",
              "      quickchartButtonEl.style.display =\n",
              "        google.colab.kernel.accessAllowed ? 'block' : 'none';\n",
              "    })();\n",
              "  </script>\n",
              "</div>\n",
              "    </div>\n",
              "  </div>\n"
            ]
          },
          "metadata": {},
          "execution_count": 69
        }
      ]
    },
    {
      "cell_type": "code",
      "source": [
        "print(\"Cantidad de documentos:\", df.shape[0])"
      ],
      "metadata": {
        "colab": {
          "base_uri": "https://localhost:8080/"
        },
        "id": "8MVhmOCbaSWS",
        "outputId": "875aa24a-bcb6-41c6-e898-dacbfbcc4141"
      },
      "execution_count": null,
      "outputs": [
        {
          "output_type": "stream",
          "name": "stdout",
          "text": [
            "Cantidad de documentos: 375\n"
          ]
        }
      ]
    },
    {
      "cell_type": "markdown",
      "source": [
        "Preprocesamiento"
      ],
      "metadata": {
        "id": "otq48IZdbMBK"
      }
    },
    {
      "cell_type": "code",
      "source": [
        "from keras.preprocessing.text import text_to_word_sequence\n",
        "\n",
        "sentence_tokens = []\n",
        "# Recorrer todas las filas y transformar las oraciones\n",
        "# en una secuencia de palabras (esto podría realizarse con NLTK o spaCy también)\n",
        "for _, row in df[:None].iterrows():\n",
        "    sentence_tokens.append(text_to_word_sequence(row[0]))"
      ],
      "metadata": {
        "id": "f85-_8P4bLLj"
      },
      "execution_count": null,
      "outputs": []
    },
    {
      "cell_type": "code",
      "source": [
        "#Ahora todas las oraciones estan separadas en tokens\n",
        "sentence_tokens[:3]"
      ],
      "metadata": {
        "colab": {
          "base_uri": "https://localhost:8080/"
        },
        "id": "0sxw0Ag6bTAh",
        "outputId": "b0eff73d-3dab-4b2b-ec23-9bff57c92617"
      },
      "execution_count": null,
      "outputs": [
        {
          "output_type": "execute_result",
          "data": {
            "text/plain": [
              "[['i',\n",
              "  'first',\n",
              "  'met',\n",
              "  'dean',\n",
              "  'not',\n",
              "  'long',\n",
              "  'after',\n",
              "  'my',\n",
              "  'wife',\n",
              "  'and',\n",
              "  'i',\n",
              "  'split',\n",
              "  'up'],\n",
              " ['i',\n",
              "  'had',\n",
              "  'just',\n",
              "  'gotten',\n",
              "  'over',\n",
              "  'a',\n",
              "  'serious',\n",
              "  'illness',\n",
              "  'that',\n",
              "  'i',\n",
              "  'won’t',\n",
              "  'bother',\n",
              "  'to',\n",
              "  'talk',\n",
              "  'about',\n",
              "  'except',\n",
              "  'that',\n",
              "  'it',\n",
              "  'had',\n",
              "  'something',\n",
              "  'to',\n",
              "  'do',\n",
              "  'with',\n",
              "  'the',\n",
              "  'miserably',\n",
              "  'weary',\n",
              "  'split',\n",
              "  'up',\n",
              "  'and',\n",
              "  'my',\n",
              "  'feeling',\n",
              "  'that',\n",
              "  'everything',\n",
              "  'was',\n",
              "  'dead'],\n",
              " ['with',\n",
              "  'the',\n",
              "  'coming',\n",
              "  'of',\n",
              "  'dean',\n",
              "  'moriarty',\n",
              "  'began',\n",
              "  'the',\n",
              "  'part',\n",
              "  'of',\n",
              "  'my',\n",
              "  'life',\n",
              "  'you',\n",
              "  'could',\n",
              "  'call',\n",
              "  'my',\n",
              "  'life',\n",
              "  'on',\n",
              "  'the',\n",
              "  'road']]"
            ]
          },
          "metadata": {},
          "execution_count": 72
        }
      ]
    },
    {
      "cell_type": "markdown",
      "source": [
        "Creamos los vectores"
      ],
      "metadata": {
        "id": "giyRoq90dQmh"
      }
    },
    {
      "cell_type": "code",
      "source": [
        "from gensim.models.callbacks import CallbackAny2Vec\n",
        "# Durante el entrenamiento gensim por defecto no informa el \"loss\" en cada época\n",
        "# Sobrecargamos el callback para poder tener esta información\n",
        "class callback(CallbackAny2Vec):\n",
        "    \"\"\"\n",
        "    Callback to print loss after each epoch\n",
        "    \"\"\"\n",
        "    def __init__(self):\n",
        "        self.epoch = 0\n",
        "\n",
        "    def on_epoch_end(self, model):\n",
        "        loss = model.get_latest_training_loss()\n",
        "        if self.epoch == 0:\n",
        "            print('Loss after epoch {}: {}'.format(self.epoch, loss))\n",
        "        else:\n",
        "            print('Loss after epoch {}: {}'.format(self.epoch, loss- self.loss_previous_step))\n",
        "        self.epoch += 1\n",
        "        self.loss_previous_step = loss"
      ],
      "metadata": {
        "id": "fw5B_F0FdQDL"
      },
      "execution_count": null,
      "outputs": []
    },
    {
      "cell_type": "code",
      "source": [
        "# Crearmos el modelo generador de vectores\n",
        "# En este caso utilizaremos la estructura modelo Skipgram\n",
        "w2v_model = Word2Vec(min_count=5,    # frecuencia mínima de palabra para incluirla en el vocabulario\n",
        "                     window=2,       # cant de palabras antes y desp de la predicha\n",
        "                     vector_size=300,       # dimensionalidad de los vectores\n",
        "                     negative=20,    # cantidad de negative samples... 0 es no se usa\n",
        "                     workers=1,      # si tienen más cores pueden cambiar este valor\n",
        "                     sg=1)           # modelo 0:CBOW  1:skipgram"
      ],
      "metadata": {
        "id": "iCMqoTifdZhi"
      },
      "execution_count": null,
      "outputs": []
    },
    {
      "cell_type": "code",
      "source": [
        "# Obtener el vocabulario con los tokens\n",
        "w2v_model.build_vocab(sentence_tokens)"
      ],
      "metadata": {
        "id": "J6kdn5TfdcIp"
      },
      "execution_count": null,
      "outputs": []
    },
    {
      "cell_type": "code",
      "source": [
        "# Cantidad de filas/docs encontradas en el corpus\n",
        "print(\"Cantidad de docs en el corpus:\", w2v_model.corpus_count)\n",
        "# Cantidad de words encontradas en el corpus\n",
        "print(\"Cantidad de words distintas en el corpus:\", len(w2v_model.wv.index_to_key))"
      ],
      "metadata": {
        "colab": {
          "base_uri": "https://localhost:8080/"
        },
        "id": "Q_EpuYK2dhL7",
        "outputId": "bd2b42ea-86e8-491d-c76a-26c480b59fd9"
      },
      "execution_count": null,
      "outputs": [
        {
          "output_type": "stream",
          "name": "stdout",
          "text": [
            "Cantidad de docs en el corpus: 375\n",
            "Cantidad de words distintas en el corpus: 271\n"
          ]
        }
      ]
    },
    {
      "cell_type": "markdown",
      "source": [
        "Entrenamos los embeddings"
      ],
      "metadata": {
        "id": "q1E5cIGwds9R"
      }
    },
    {
      "cell_type": "code",
      "source": [
        "# Entrenamos el modelo generador de vectores\n",
        "# Utilizamos nuestro callback\n",
        "w2v_model.train(sentence_tokens,\n",
        "                 total_examples=w2v_model.corpus_count,\n",
        "                 epochs=20,\n",
        "                 compute_loss = True,\n",
        "                 callbacks=[callback()]\n",
        "                 )"
      ],
      "metadata": {
        "colab": {
          "base_uri": "https://localhost:8080/"
        },
        "id": "KV3cCpt-dxj6",
        "outputId": "d95d6541-df30-4204-8883-87b6ff693954"
      },
      "execution_count": null,
      "outputs": [
        {
          "output_type": "stream",
          "name": "stdout",
          "text": [
            "Loss after epoch 0: 75361.6015625\n",
            "Loss after epoch 1: 33497.7109375\n",
            "Loss after epoch 2: 33897.125\n",
            "Loss after epoch 3: 33203.734375\n",
            "Loss after epoch 4: 34184.546875\n",
            "Loss after epoch 5: 34151.9375\n",
            "Loss after epoch 6: 33431.25\n",
            "Loss after epoch 7: 33551.65625\n",
            "Loss after epoch 8: 33200.21875\n",
            "Loss after epoch 9: 33831.15625\n",
            "Loss after epoch 10: 33780.71875\n",
            "Loss after epoch 11: 33000.21875\n",
            "Loss after epoch 12: 33372.4375\n",
            "Loss after epoch 13: 33800.03125\n",
            "Loss after epoch 14: 32847.90625\n",
            "Loss after epoch 15: 33219.1875\n",
            "Loss after epoch 16: 34056.625\n",
            "Loss after epoch 17: 33395.875\n",
            "Loss after epoch 18: 33906.4375\n",
            "Loss after epoch 19: 33138.75\n"
          ]
        },
        {
          "output_type": "execute_result",
          "data": {
            "text/plain": [
              "(65129, 166820)"
            ]
          },
          "metadata": {},
          "execution_count": 77
        }
      ]
    },
    {
      "cell_type": "markdown",
      "source": [
        "Ensayos:"
      ],
      "metadata": {
        "id": "17DBHFM4d2Yg"
      }
    },
    {
      "cell_type": "code",
      "source": [
        "# Palabras que MÁS se relacionan con...:\n",
        "w2v_model.wv.most_similar(positive=[\"dean\"], topn=10)"
      ],
      "metadata": {
        "colab": {
          "base_uri": "https://localhost:8080/"
        },
        "id": "dSHKyCzCd3tg",
        "outputId": "94913ee5-1467-4430-ccd4-a3859796c3dc"
      },
      "execution_count": null,
      "outputs": [
        {
          "output_type": "execute_result",
          "data": {
            "text/plain": [
              "[('chad', 0.9989824891090393),\n",
              " ('everybody', 0.9988863468170166),\n",
              " ('its', 0.9988683462142944),\n",
              " ('every', 0.9988682866096497),\n",
              " ('beautiful', 0.998860776424408),\n",
              " ('god', 0.9988541007041931),\n",
              " ('rain', 0.998846709728241),\n",
              " ('middle', 0.9988402128219604),\n",
              " ('gray', 0.9988251328468323),\n",
              " ('day', 0.9988231658935547)]"
            ]
          },
          "metadata": {},
          "execution_count": 78
        }
      ]
    },
    {
      "cell_type": "code",
      "source": [
        "# Palabras que MENOS se relacionan con...:\n",
        "w2v_model.wv.most_similar(negative=[\"dean\"], topn=10)"
      ],
      "metadata": {
        "colab": {
          "base_uri": "https://localhost:8080/"
        },
        "id": "mJYilT8peCY6",
        "outputId": "fddb6903-0837-4569-b1f2-90fb4bf5707d"
      },
      "execution_count": null,
      "outputs": [
        {
          "output_type": "execute_result",
          "data": {
            "text/plain": [
              "[('york', -0.9919135570526123),\n",
              " ('new', -0.9934605956077576),\n",
              " ('know', -0.9940288662910461),\n",
              " ('to', -0.9947744011878967),\n",
              " ('as', -0.9952324032783508),\n",
              " ('didn’t', -0.9956567883491516),\n",
              " ('would', -0.9957091212272644),\n",
              " ('could', -0.996131181716919),\n",
              " ('an', -0.9962911009788513),\n",
              " ('be', -0.9964403510093689)]"
            ]
          },
          "metadata": {},
          "execution_count": 79
        }
      ]
    },
    {
      "cell_type": "code",
      "source": [
        "# Palabras que MÁS se relacionan con...:\n",
        "w2v_model.wv.most_similar(positive=[\"mad\"], topn=10)"
      ],
      "metadata": {
        "colab": {
          "base_uri": "https://localhost:8080/"
        },
        "id": "QWcSCy0feGEB",
        "outputId": "a5e850b6-d2b4-4f30-d1ce-ee5e7ff731df"
      },
      "execution_count": null,
      "outputs": [
        {
          "output_type": "execute_result",
          "data": {
            "text/plain": [
              "[('are', 0.9989535808563232),\n",
              " ('people', 0.9988415241241455),\n",
              " ('guy', 0.9987956285476685),\n",
              " ('who', 0.9987594485282898),\n",
              " ('never', 0.9987443089485168),\n",
              " ('talk', 0.9987119436264038),\n",
              " ('too', 0.9986883401870728),\n",
              " ('even', 0.9986675977706909),\n",
              " ('money', 0.998623788356781),\n",
              " ('river', 0.9986048936843872)]"
            ]
          },
          "metadata": {},
          "execution_count": 80
        }
      ]
    },
    {
      "cell_type": "code",
      "source": [
        "# Palabras que MENOS se relacionan con...:\n",
        "w2v_model.wv.most_similar(negative=[\"mad\"], topn=10)"
      ],
      "metadata": {
        "colab": {
          "base_uri": "https://localhost:8080/"
        },
        "id": "tL-yGn6-eKvx",
        "outputId": "e2643e46-7af5-4f30-a708-ac725a713521"
      },
      "execution_count": null,
      "outputs": [
        {
          "output_type": "execute_result",
          "data": {
            "text/plain": [
              "[('york', -0.9911127686500549),\n",
              " ('new', -0.9921311140060425),\n",
              " ('as', -0.9949281215667725),\n",
              " ('the', -0.9950131773948669),\n",
              " ('long', -0.9953908920288086),\n",
              " ('an', -0.9954916834831238),\n",
              " ('could', -0.9959725141525269),\n",
              " ('know', -0.9959810376167297),\n",
              " ('in', -0.9959972500801086),\n",
              " ('into', -0.9960350394248962)]"
            ]
          },
          "metadata": {},
          "execution_count": 81
        }
      ]
    },
    {
      "cell_type": "code",
      "source": [
        "# Palabras que MÁS se relacionan con...:\n",
        "w2v_model.wv.most_similar(positive=[\"car\"], topn=10)"
      ],
      "metadata": {
        "colab": {
          "base_uri": "https://localhost:8080/"
        },
        "id": "1XejqBcAege5",
        "outputId": "4dde8547-fcbb-4c30-c757-d053d56a2917"
      },
      "execution_count": null,
      "outputs": [
        {
          "output_type": "execute_result",
          "data": {
            "text/plain": [
              "[('hour', 0.998596727848053),\n",
              " ('out', 0.9985631704330444),\n",
              " ('sitting', 0.9985014796257019),\n",
              " ('half', 0.9984301924705505),\n",
              " ('davenport', 0.998424232006073),\n",
              " ('under', 0.9983940720558167),\n",
              " ('drove', 0.998393714427948),\n",
              " ('station', 0.9983934164047241),\n",
              " ('clear', 0.998387336730957),\n",
              " ('dollars', 0.9983595013618469)]"
            ]
          },
          "metadata": {},
          "execution_count": 82
        }
      ]
    },
    {
      "cell_type": "code",
      "source": [
        "# Palabras que MÁS se relacionan con...:\n",
        "w2v_model.wv.most_similar(positive=[\"road\"], topn=10)"
      ],
      "metadata": {
        "colab": {
          "base_uri": "https://localhost:8080/"
        },
        "id": "f5DkuSh1emnP",
        "outputId": "c1bd3442-9286-429d-bd27-feb62eced100"
      },
      "execution_count": null,
      "outputs": [
        {
          "output_type": "execute_result",
          "data": {
            "text/plain": [
              "[('america', 0.9988267421722412),\n",
              " ('middle', 0.9987679719924927),\n",
              " ('everybody', 0.9987400770187378),\n",
              " ('sun', 0.9987112879753113),\n",
              " ('railroad', 0.9986905455589294),\n",
              " ('rain', 0.9986276030540466),\n",
              " ('till', 0.9986093640327454),\n",
              " ('shelton', 0.9986037611961365),\n",
              " ('same', 0.9985983371734619),\n",
              " ('day', 0.9985952973365784)]"
            ]
          },
          "metadata": {},
          "execution_count": 83
        }
      ]
    },
    {
      "cell_type": "code",
      "source": [
        "from sklearn.decomposition import IncrementalPCA\n",
        "from sklearn.manifold import TSNE\n",
        "import numpy as np\n",
        "\n",
        "def reduce_dimensions(model, num_dimensions = 2 ):\n",
        "\n",
        "    vectors = np.asarray(model.wv.vectors)\n",
        "    labels = np.asarray(model.wv.index_to_key)\n",
        "\n",
        "    tsne = TSNE(n_components=num_dimensions, random_state=0)\n",
        "    vectors = tsne.fit_transform(vectors)\n",
        "\n",
        "    return vectors, labels"
      ],
      "metadata": {
        "id": "Tg9kmGyggetZ"
      },
      "execution_count": null,
      "outputs": []
    },
    {
      "cell_type": "code",
      "source": [
        "# Graficar los embedddings en 2D\n",
        "import plotly.graph_objects as go\n",
        "import plotly.express as px\n",
        "\n",
        "vecs, labels = reduce_dimensions(w2v_model)\n",
        "\n",
        "MAX_WORDS=200\n",
        "fig = px.scatter(x=vecs[:MAX_WORDS,0], y=vecs[:MAX_WORDS,1], text=labels[:MAX_WORDS])\n",
        "fig.show(renderer=\"colab\") # esto para plotly en colab"
      ],
      "metadata": {
        "colab": {
          "base_uri": "https://localhost:8080/",
          "height": 542
        },
        "id": "xCQaAH6GghJx",
        "outputId": "9f3a3447-4cb5-4ed8-9c7f-33a7016f8b92"
      },
      "execution_count": null,
      "outputs": [
        {
          "output_type": "display_data",
          "data": {
            "text/html": [
              "<html>\n",
              "<head><meta charset=\"utf-8\" /></head>\n",
              "<body>\n",
              "    <div>            <script src=\"https://cdnjs.cloudflare.com/ajax/libs/mathjax/2.7.5/MathJax.js?config=TeX-AMS-MML_SVG\"></script><script type=\"text/javascript\">if (window.MathJax && window.MathJax.Hub && window.MathJax.Hub.Config) {window.MathJax.Hub.Config({SVG: {font: \"STIX-Web\"}});}</script>                <script type=\"text/javascript\">window.PlotlyConfig = {MathJaxConfig: 'local'};</script>\n",
              "        <script charset=\"utf-8\" src=\"https://cdn.plot.ly/plotly-2.24.1.min.js\"></script>                <div id=\"320d848c-1194-465b-939d-b2253aa2007b\" class=\"plotly-graph-div\" style=\"height:525px; width:100%;\"></div>            <script type=\"text/javascript\">                                    window.PLOTLYENV=window.PLOTLYENV || {};                                    if (document.getElementById(\"320d848c-1194-465b-939d-b2253aa2007b\")) {                    Plotly.newPlot(                        \"320d848c-1194-465b-939d-b2253aa2007b\",                        [{\"hovertemplate\":\"x=%{x}\\u003cbr\\u003ey=%{y}\\u003cbr\\u003etext=%{text}\\u003cextra\\u003e\\u003c\\u002fextra\\u003e\",\"legendgroup\":\"\",\"marker\":{\"color\":\"#636efa\",\"symbol\":\"circle\"},\"mode\":\"markers+text\",\"name\":\"\",\"orientation\":\"v\",\"showlegend\":false,\"text\":[\"the\",\"and\",\"a\",\"to\",\"in\",\"i\",\"of\",\"was\",\"he\",\"that\",\"with\",\"my\",\"we\",\"on\",\"it\",\"all\",\"for\",\"me\",\"\\u00bb\",\"as\",\"had\",\"his\",\"up\",\"at\",\"dean\",\"like\",\"so\",\"there\",\"from\",\"one\",\"you\",\"were\",\"got\",\"new\",\"went\",\"said\",\"but\",\"him\",\"out\",\"they\",\"time\",\"down\",\"get\",\"off\",\"back\",\"about\",\"this\",\"over\",\"by\",\"just\",\"night\",\"didn\\u2019t\",\"old\",\"into\",\"way\",\"an\",\"west\",\"then\",\"going\",\"some\",\"when\",\"know\",\"or\",\"long\",\"only\",\"no\",\"took\",\"road\",\"would\",\"life\",\"after\",\"big\",\"eddie\",\"what\",\"could\",\"have\",\"man\",\"be\",\"because\",\"which\",\"little\",\"york\",\"car\",\"iowa\",\"few\",\"came\",\"around\",\"she\",\"first\",\"now\",\"carlo\",\"denver\",\"see\",\"other\",\"another\",\"town\",\"right\",\"where\",\"great\",\"is\",\"do\",\"been\",\"across\",\"bus\",\"looked\",\"our\",\"things\",\"i\\u2019d\",\"who\",\"not\",\"wanted\",\"go\",\"them\",\"those\",\"two\",\"their\",\"miles\",\"kind\",\"take\",\"thing\",\"myself\",\"her\",\"told\",\"everything\",\"along\",\"mad\",\"cowboy\",\"any\",\"really\",\"talk\",\"good\",\"us\",\"ride\",\"make\",\"young\",\"how\",\"stopped\",\"come\",\"here\",\"marylou\",\"saw\",\"knew\",\"chicago\",\"can\",\"nebraska\",\"girls\",\"coming\",\"place\",\"i\\u2019m\",\"before\",\"chad\",\"world\",\"people\",\"day\",\"began\",\"work\",\"damn\",\"made\",\"eat\",\"boys\",\"even\",\"line\",\"hours\",\"that\\u2019s\",\"sun\",\"cars\",\"afternoon\",\"6\",\"started\",\"home\",\"under\",\"through\",\"gray\",\"something\",\"country\",\"shelton\",\"course\",\"room\",\"while\",\"days\",\"very\",\"much\",\"doing\",\"island\",\"somewhere\",\"route\",\"its\",\"plains\",\"city\",\"street\",\"saying\",\"guy\",\"write\",\"away\",\"whole\",\"why\",\"north\",\"stuck\",\"aunt\",\"sleep\"],\"x\":[6.975532054901123,2.1272976398468018,7.6220831871032715,-4.922789096832275,6.654344081878662,-3.3477065563201904,-4.131231784820557,1.007084608078003,-2.014434576034546,4.6288652420043945,-3.629176139831543,5.517539978027344,-0.15775030851364136,4.942485809326172,-1.396353006362915,4.58263635635376,0.6207621693611145,-3.403892993927002,-2.742661237716675,-1.8494707345962524,-0.838523805141449,2.560476779937744,-0.41483113169670105,-2.8685734272003174,4.162391185760498,2.4574921131134033,-1.613900899887085,4.788618564605713,3.263441324234009,1.2124329805374146,-3.7962865829467773,3.214968681335449,3.931286096572876,5.065659046173096,-5.033958435058594,-2.4772753715515137,-0.17096802592277527,0.598511278629303,-2.3608431816101074,3.76815128326416,2.178464651107788,3.776648759841919,-4.739794731140137,-1.2389495372772217,2.291391134262085,-3.204625368118286,1.0522139072418213,2.4846792221069336,-3.7205936908721924,-1.1227881908416748,3.3819141387939453,-4.288466453552246,-4.026315212249756,-3.038191556930542,4.361813545227051,-3.5877327919006348,3.7978055477142334,0.012896520085632801,-3.577298879623413,1.4268434047698975,2.7531723976135254,-4.481939315795898,-1.9183549880981445,7.543435096740723,1.0125625133514404,7.292331695556641,4.454013347625732,3.225353717803955,0.9075550436973572,5.885901927947998,0.24976232647895813,1.6791776418685913,-0.10986057668924332,-4.123079299926758,-4.342376232147217,-5.412496566772461,-0.20899944007396698,-5.502987384796143,1.0245410203933716,2.7257447242736816,5.984515190124512,5.952707767486572,-2.932941198348999,-1.516013741493225,-0.405173122882843,-2.5063281059265137,1.2954474687576294,1.6041518449783325,6.621750354766846,0.519267737865448,4.569133281707764,5.925034046173096,-3.4188995361328125,3.798881769180298,-2.5311484336853027,-2.3930482864379883,-1.809689998626709,-1.8662219047546387,0.2553490996360779,-0.34975719451904297,-4.150280952453613,1.5899035930633545,-4.5341362953186035,-1.267293930053711,5.397150039672852,-0.8691307306289673,4.998006343841553,1.2389843463897705,1.8403640985488892,2.746227502822876,-4.6751508712768555,-5.851474761962891,-0.8890377283096313,6.083599090576172,-2.719977617263794,6.1089701652526855,-3.6846351623535156,0.5672329664230347,-3.096620798110962,-0.02631782554090023,-5.043600559234619,5.193776607513428,3.753803014755249,-3.0348808765411377,-1.0726873874664307,2.296267509460449,2.698599338531494,-0.4071221947669983,-3.9024300575256348,2.7017405033111572,-0.9029741883277893,-0.277862012386322,5.184323310852051,-3.256969690322876,5.8538055419921875,-4.153794765472412,2.4296650886535645,-3.420593500137329,1.6720339059829712,4.6913628578186035,2.264641046524048,1.8421417474746704,-0.7455706000328064,-4.127684116363525,-3.436495065689087,3.8134765625,4.590992450714111,-2.257333993911743,-1.770521640777588,1.4338716268539429,3.6584830284118652,6.392203330993652,2.371530532836914,1.5202763080596924,0.296125590801239,0.4881371557712555,0.17141193151474,1.8132542371749878,-2.0750815868377686,-2.7057459354400635,-1.4555091857910156,3.043485164642334,7.336214542388916,0.37924936413764954,2.9860363006591797,-0.270438015460968,-0.11724933981895447,-1.9986350536346436,-1.7196241617202759,4.378828525543213,-0.8572139143943787,-1.2458808422088623,4.698875904083252,3.705035448074341,4.472657680511475,1.348580241203308,2.3441693782806396,4.224568843841553,3.325134515762329,-2.0192463397979736,-0.09543319046497345,-1.5772398710250854,1.5517209768295288,2.9955146312713623,-1.033036708831787,-0.8620801568031311,1.844077467918396,-4.1273298263549805,2.7710230350494385,-2.4118735790252686,-1.1607927083969116,0.3169746398925781,-2.5265390872955322,1.9187889099121094,5.455936908721924,0.8614417910575867,3.4534666538238525,3.440243721008301,3.6963319778442383,1.267988681793213],\"xaxis\":\"x\",\"y\":[-2.0744283199310303,-3.364637613296509,1.1110612154006958,-0.9068390130996704,-0.97301185131073,-2.234273672103882,3.398569345474243,-6.262587547302246,-3.529872179031372,4.071627140045166,2.830432176589966,1.0737237930297852,2.155153512954712,-1.4223881959915161,-4.696992874145508,3.501091718673706,-4.490927696228027,-1.0211340188980103,-2.412940740585327,-3.6574933528900146,-1.6983189582824707,1.49653959274292,-1.3220402002334595,3.463749408721924,-5.455384254455566,1.9551748037338257,-3.451512336730957,-4.040849685668945,1.524074673652649,-2.806159019470215,-1.336737036705017,5.5047993659973145,-0.29525643587112427,2.4005160331726074,2.0555622577667236,-2.9864890575408936,-0.531719446182251,-2.349928617477417,5.621662139892578,5.729466438293457,2.8429388999938965,-1.0715843439102173,-2.1213228702545166,7.203099250793457,1.0888618230819702,-4.766770362854004,2.6686296463012695,-4.92944860458374,5.353745937347412,1.0630149841308594,-3.534543037414551,-3.7659926414489746,5.9068217277526855,6.157389163970947,3.028524875640869,5.337168216705322,-2.9412527084350586,2.38773775100708,-2.263518810272217,1.0752546787261963,3.6937060356140137,-3.981879472732544,0.3003354072570801,1.8140093088150024,7.192934036254883,-3.3411011695861816,-0.4553748667240143,-3.8793418407440186,4.53651762008667,1.1643069982528687,5.826125621795654,-4.05419397354126,-3.367708683013916,-3.5188097953796387,-0.2130306214094162,-3.2618956565856934,-2.530496835708618,-3.249539613723755,-6.2391815185546875,6.951973915100098,-4.207772254943848,3.0499789714813232,6.702426910400391,5.283607482910156,-5.669938564300537,3.8623688220977783,-3.546577215194702,-4.969464302062988,0.07443168014287949,-3.1051480770111084,-5.699289798736572,-2.8465981483459473,0.1975279301404953,0.9736747741699219,5.527611255645752,5.686857223510742,-1.7225465774536133,5.879520893096924,3.4169223308563232,0.1321602761745453,-2.604952096939087,3.134169340133667,4.4702653884887695,7.143804550170898,-0.8792089223861694,-1.0565687417984009,4.605400562286377,3.8731539249420166,5.55456018447876,3.4109880924224854,-1.2069768905639648,-1.6822283267974854,0.014422206208109856,-1.763426423072815,2.923112154006958,3.1401963233947754,6.043059825897217,-0.833957314491272,0.2982279062271118,-2.014132022857666,-1.988795518875122,-2.1349377632141113,-5.41721248626709,-3.7134833335876465,2.8097574710845947,5.504828929901123,-2.6060779094696045,3.9174468517303467,-3.851094961166382,6.091952323913574,-2.1658248901367188,-4.08660364151001,-0.008443651720881462,-0.8568063378334045,-4.096127986907959,-2.967010974884033,0.6743795871734619,-1.3557326793670654,2.5200676918029785,-3.281933069229126,0.5015185475349426,-2.980234146118164,5.5439043045043945,-0.5315235257148743,4.560886383056641,3.8974740505218506,2.0181376934051514,1.4777591228485107,-0.3709167540073395,2.6162617206573486,-5.18244743347168,-0.8519186973571777,5.029172420501709,-2.3649377822875977,-1.2703477144241333,-0.1551755964756012,-1.137774109840393,0.0864943265914917,-1.5137262344360352,1.5674487352371216,0.40275949239730835,-3.8788905143737793,1.6353071928024292,1.17020845413208,-2.0689644813537598,4.076035499572754,2.577247142791748,2.2783637046813965,-1.190792441368103,1.5184086561203003,3.0687451362609863,4.520284175872803,1.7485052347183228,2.586376905441284,-1.8665871620178223,-2.1508586406707764,-2.2099218368530273,-1.7757368087768555,-0.4793723523616791,0.5751310586929321,0.7565662264823914,-3.216858386993408,2.8598670959472656,-0.4309399127960205,2.5625691413879395,4.732162952423096,-1.1555519104003906,4.642680644989014,-0.15536126494407654,3.3706698417663574,-0.8781710267066956,0.9081552624702454,-1.978588342666626,0.7671135067939758,1.557930827140808,-1.621156930923462,2.4239189624786377,-1.3134855031967163,0.25693628191947937,0.377421498298645],\"yaxis\":\"y\",\"type\":\"scatter\"}],                        {\"template\":{\"data\":{\"histogram2dcontour\":[{\"type\":\"histogram2dcontour\",\"colorbar\":{\"outlinewidth\":0,\"ticks\":\"\"},\"colorscale\":[[0.0,\"#0d0887\"],[0.1111111111111111,\"#46039f\"],[0.2222222222222222,\"#7201a8\"],[0.3333333333333333,\"#9c179e\"],[0.4444444444444444,\"#bd3786\"],[0.5555555555555556,\"#d8576b\"],[0.6666666666666666,\"#ed7953\"],[0.7777777777777778,\"#fb9f3a\"],[0.8888888888888888,\"#fdca26\"],[1.0,\"#f0f921\"]]}],\"choropleth\":[{\"type\":\"choropleth\",\"colorbar\":{\"outlinewidth\":0,\"ticks\":\"\"}}],\"histogram2d\":[{\"type\":\"histogram2d\",\"colorbar\":{\"outlinewidth\":0,\"ticks\":\"\"},\"colorscale\":[[0.0,\"#0d0887\"],[0.1111111111111111,\"#46039f\"],[0.2222222222222222,\"#7201a8\"],[0.3333333333333333,\"#9c179e\"],[0.4444444444444444,\"#bd3786\"],[0.5555555555555556,\"#d8576b\"],[0.6666666666666666,\"#ed7953\"],[0.7777777777777778,\"#fb9f3a\"],[0.8888888888888888,\"#fdca26\"],[1.0,\"#f0f921\"]]}],\"heatmap\":[{\"type\":\"heatmap\",\"colorbar\":{\"outlinewidth\":0,\"ticks\":\"\"},\"colorscale\":[[0.0,\"#0d0887\"],[0.1111111111111111,\"#46039f\"],[0.2222222222222222,\"#7201a8\"],[0.3333333333333333,\"#9c179e\"],[0.4444444444444444,\"#bd3786\"],[0.5555555555555556,\"#d8576b\"],[0.6666666666666666,\"#ed7953\"],[0.7777777777777778,\"#fb9f3a\"],[0.8888888888888888,\"#fdca26\"],[1.0,\"#f0f921\"]]}],\"heatmapgl\":[{\"type\":\"heatmapgl\",\"colorbar\":{\"outlinewidth\":0,\"ticks\":\"\"},\"colorscale\":[[0.0,\"#0d0887\"],[0.1111111111111111,\"#46039f\"],[0.2222222222222222,\"#7201a8\"],[0.3333333333333333,\"#9c179e\"],[0.4444444444444444,\"#bd3786\"],[0.5555555555555556,\"#d8576b\"],[0.6666666666666666,\"#ed7953\"],[0.7777777777777778,\"#fb9f3a\"],[0.8888888888888888,\"#fdca26\"],[1.0,\"#f0f921\"]]}],\"contourcarpet\":[{\"type\":\"contourcarpet\",\"colorbar\":{\"outlinewidth\":0,\"ticks\":\"\"}}],\"contour\":[{\"type\":\"contour\",\"colorbar\":{\"outlinewidth\":0,\"ticks\":\"\"},\"colorscale\":[[0.0,\"#0d0887\"],[0.1111111111111111,\"#46039f\"],[0.2222222222222222,\"#7201a8\"],[0.3333333333333333,\"#9c179e\"],[0.4444444444444444,\"#bd3786\"],[0.5555555555555556,\"#d8576b\"],[0.6666666666666666,\"#ed7953\"],[0.7777777777777778,\"#fb9f3a\"],[0.8888888888888888,\"#fdca26\"],[1.0,\"#f0f921\"]]}],\"surface\":[{\"type\":\"surface\",\"colorbar\":{\"outlinewidth\":0,\"ticks\":\"\"},\"colorscale\":[[0.0,\"#0d0887\"],[0.1111111111111111,\"#46039f\"],[0.2222222222222222,\"#7201a8\"],[0.3333333333333333,\"#9c179e\"],[0.4444444444444444,\"#bd3786\"],[0.5555555555555556,\"#d8576b\"],[0.6666666666666666,\"#ed7953\"],[0.7777777777777778,\"#fb9f3a\"],[0.8888888888888888,\"#fdca26\"],[1.0,\"#f0f921\"]]}],\"mesh3d\":[{\"type\":\"mesh3d\",\"colorbar\":{\"outlinewidth\":0,\"ticks\":\"\"}}],\"scatter\":[{\"fillpattern\":{\"fillmode\":\"overlay\",\"size\":10,\"solidity\":0.2},\"type\":\"scatter\"}],\"parcoords\":[{\"type\":\"parcoords\",\"line\":{\"colorbar\":{\"outlinewidth\":0,\"ticks\":\"\"}}}],\"scatterpolargl\":[{\"type\":\"scatterpolargl\",\"marker\":{\"colorbar\":{\"outlinewidth\":0,\"ticks\":\"\"}}}],\"bar\":[{\"error_x\":{\"color\":\"#2a3f5f\"},\"error_y\":{\"color\":\"#2a3f5f\"},\"marker\":{\"line\":{\"color\":\"#E5ECF6\",\"width\":0.5},\"pattern\":{\"fillmode\":\"overlay\",\"size\":10,\"solidity\":0.2}},\"type\":\"bar\"}],\"scattergeo\":[{\"type\":\"scattergeo\",\"marker\":{\"colorbar\":{\"outlinewidth\":0,\"ticks\":\"\"}}}],\"scatterpolar\":[{\"type\":\"scatterpolar\",\"marker\":{\"colorbar\":{\"outlinewidth\":0,\"ticks\":\"\"}}}],\"histogram\":[{\"marker\":{\"pattern\":{\"fillmode\":\"overlay\",\"size\":10,\"solidity\":0.2}},\"type\":\"histogram\"}],\"scattergl\":[{\"type\":\"scattergl\",\"marker\":{\"colorbar\":{\"outlinewidth\":0,\"ticks\":\"\"}}}],\"scatter3d\":[{\"type\":\"scatter3d\",\"line\":{\"colorbar\":{\"outlinewidth\":0,\"ticks\":\"\"}},\"marker\":{\"colorbar\":{\"outlinewidth\":0,\"ticks\":\"\"}}}],\"scattermapbox\":[{\"type\":\"scattermapbox\",\"marker\":{\"colorbar\":{\"outlinewidth\":0,\"ticks\":\"\"}}}],\"scatterternary\":[{\"type\":\"scatterternary\",\"marker\":{\"colorbar\":{\"outlinewidth\":0,\"ticks\":\"\"}}}],\"scattercarpet\":[{\"type\":\"scattercarpet\",\"marker\":{\"colorbar\":{\"outlinewidth\":0,\"ticks\":\"\"}}}],\"carpet\":[{\"aaxis\":{\"endlinecolor\":\"#2a3f5f\",\"gridcolor\":\"white\",\"linecolor\":\"white\",\"minorgridcolor\":\"white\",\"startlinecolor\":\"#2a3f5f\"},\"baxis\":{\"endlinecolor\":\"#2a3f5f\",\"gridcolor\":\"white\",\"linecolor\":\"white\",\"minorgridcolor\":\"white\",\"startlinecolor\":\"#2a3f5f\"},\"type\":\"carpet\"}],\"table\":[{\"cells\":{\"fill\":{\"color\":\"#EBF0F8\"},\"line\":{\"color\":\"white\"}},\"header\":{\"fill\":{\"color\":\"#C8D4E3\"},\"line\":{\"color\":\"white\"}},\"type\":\"table\"}],\"barpolar\":[{\"marker\":{\"line\":{\"color\":\"#E5ECF6\",\"width\":0.5},\"pattern\":{\"fillmode\":\"overlay\",\"size\":10,\"solidity\":0.2}},\"type\":\"barpolar\"}],\"pie\":[{\"automargin\":true,\"type\":\"pie\"}]},\"layout\":{\"autotypenumbers\":\"strict\",\"colorway\":[\"#636efa\",\"#EF553B\",\"#00cc96\",\"#ab63fa\",\"#FFA15A\",\"#19d3f3\",\"#FF6692\",\"#B6E880\",\"#FF97FF\",\"#FECB52\"],\"font\":{\"color\":\"#2a3f5f\"},\"hovermode\":\"closest\",\"hoverlabel\":{\"align\":\"left\"},\"paper_bgcolor\":\"white\",\"plot_bgcolor\":\"#E5ECF6\",\"polar\":{\"bgcolor\":\"#E5ECF6\",\"angularaxis\":{\"gridcolor\":\"white\",\"linecolor\":\"white\",\"ticks\":\"\"},\"radialaxis\":{\"gridcolor\":\"white\",\"linecolor\":\"white\",\"ticks\":\"\"}},\"ternary\":{\"bgcolor\":\"#E5ECF6\",\"aaxis\":{\"gridcolor\":\"white\",\"linecolor\":\"white\",\"ticks\":\"\"},\"baxis\":{\"gridcolor\":\"white\",\"linecolor\":\"white\",\"ticks\":\"\"},\"caxis\":{\"gridcolor\":\"white\",\"linecolor\":\"white\",\"ticks\":\"\"}},\"coloraxis\":{\"colorbar\":{\"outlinewidth\":0,\"ticks\":\"\"}},\"colorscale\":{\"sequential\":[[0.0,\"#0d0887\"],[0.1111111111111111,\"#46039f\"],[0.2222222222222222,\"#7201a8\"],[0.3333333333333333,\"#9c179e\"],[0.4444444444444444,\"#bd3786\"],[0.5555555555555556,\"#d8576b\"],[0.6666666666666666,\"#ed7953\"],[0.7777777777777778,\"#fb9f3a\"],[0.8888888888888888,\"#fdca26\"],[1.0,\"#f0f921\"]],\"sequentialminus\":[[0.0,\"#0d0887\"],[0.1111111111111111,\"#46039f\"],[0.2222222222222222,\"#7201a8\"],[0.3333333333333333,\"#9c179e\"],[0.4444444444444444,\"#bd3786\"],[0.5555555555555556,\"#d8576b\"],[0.6666666666666666,\"#ed7953\"],[0.7777777777777778,\"#fb9f3a\"],[0.8888888888888888,\"#fdca26\"],[1.0,\"#f0f921\"]],\"diverging\":[[0,\"#8e0152\"],[0.1,\"#c51b7d\"],[0.2,\"#de77ae\"],[0.3,\"#f1b6da\"],[0.4,\"#fde0ef\"],[0.5,\"#f7f7f7\"],[0.6,\"#e6f5d0\"],[0.7,\"#b8e186\"],[0.8,\"#7fbc41\"],[0.9,\"#4d9221\"],[1,\"#276419\"]]},\"xaxis\":{\"gridcolor\":\"white\",\"linecolor\":\"white\",\"ticks\":\"\",\"title\":{\"standoff\":15},\"zerolinecolor\":\"white\",\"automargin\":true,\"zerolinewidth\":2},\"yaxis\":{\"gridcolor\":\"white\",\"linecolor\":\"white\",\"ticks\":\"\",\"title\":{\"standoff\":15},\"zerolinecolor\":\"white\",\"automargin\":true,\"zerolinewidth\":2},\"scene\":{\"xaxis\":{\"backgroundcolor\":\"#E5ECF6\",\"gridcolor\":\"white\",\"linecolor\":\"white\",\"showbackground\":true,\"ticks\":\"\",\"zerolinecolor\":\"white\",\"gridwidth\":2},\"yaxis\":{\"backgroundcolor\":\"#E5ECF6\",\"gridcolor\":\"white\",\"linecolor\":\"white\",\"showbackground\":true,\"ticks\":\"\",\"zerolinecolor\":\"white\",\"gridwidth\":2},\"zaxis\":{\"backgroundcolor\":\"#E5ECF6\",\"gridcolor\":\"white\",\"linecolor\":\"white\",\"showbackground\":true,\"ticks\":\"\",\"zerolinecolor\":\"white\",\"gridwidth\":2}},\"shapedefaults\":{\"line\":{\"color\":\"#2a3f5f\"}},\"annotationdefaults\":{\"arrowcolor\":\"#2a3f5f\",\"arrowhead\":0,\"arrowwidth\":1},\"geo\":{\"bgcolor\":\"white\",\"landcolor\":\"#E5ECF6\",\"subunitcolor\":\"white\",\"showland\":true,\"showlakes\":true,\"lakecolor\":\"white\"},\"title\":{\"x\":0.05},\"mapbox\":{\"style\":\"light\"}}},\"xaxis\":{\"anchor\":\"y\",\"domain\":[0.0,1.0],\"title\":{\"text\":\"x\"}},\"yaxis\":{\"anchor\":\"x\",\"domain\":[0.0,1.0],\"title\":{\"text\":\"y\"}},\"legend\":{\"tracegroupgap\":0},\"margin\":{\"t\":60}},                        {\"responsive\": true}                    ).then(function(){\n",
              "                            \n",
              "var gd = document.getElementById('320d848c-1194-465b-939d-b2253aa2007b');\n",
              "var x = new MutationObserver(function (mutations, observer) {{\n",
              "        var display = window.getComputedStyle(gd).display;\n",
              "        if (!display || display === 'none') {{\n",
              "            console.log([gd, 'removed!']);\n",
              "            Plotly.purge(gd);\n",
              "            observer.disconnect();\n",
              "        }}\n",
              "}});\n",
              "\n",
              "// Listen for the removal of the full notebook cells\n",
              "var notebookContainer = gd.closest('#notebook-container');\n",
              "if (notebookContainer) {{\n",
              "    x.observe(notebookContainer, {childList: true});\n",
              "}}\n",
              "\n",
              "// Listen for the clearing of the current output cell\n",
              "var outputEl = gd.closest('.output');\n",
              "if (outputEl) {{\n",
              "    x.observe(outputEl, {childList: true});\n",
              "}}\n",
              "\n",
              "                        })                };                            </script>        </div>\n",
              "</body>\n",
              "</html>"
            ]
          },
          "metadata": {}
        }
      ]
    },
    {
      "cell_type": "code",
      "source": [
        "# Graficar los embedddings en 2D\n",
        "import plotly.graph_objects as go\n",
        "import plotly.express as px\n",
        "\n",
        "vecs, labels = reduce_dimensions(w2v_model)\n",
        "\n",
        "MAX_WORDS=200\n",
        "fig = px.scatter(x=vecs[:MAX_WORDS,0], y=vecs[:MAX_WORDS,1], text=labels[:MAX_WORDS])\n",
        "fig.show(renderer=\"colab\") # esto para plotly en colab"
      ],
      "metadata": {
        "colab": {
          "base_uri": "https://localhost:8080/",
          "height": 542
        },
        "id": "fhoTgn41gvUZ",
        "outputId": "7d5ad6fd-02f2-4d0b-8722-2732ea1d65af"
      },
      "execution_count": null,
      "outputs": [
        {
          "output_type": "display_data",
          "data": {
            "text/html": [
              "<html>\n",
              "<head><meta charset=\"utf-8\" /></head>\n",
              "<body>\n",
              "    <div>            <script src=\"https://cdnjs.cloudflare.com/ajax/libs/mathjax/2.7.5/MathJax.js?config=TeX-AMS-MML_SVG\"></script><script type=\"text/javascript\">if (window.MathJax && window.MathJax.Hub && window.MathJax.Hub.Config) {window.MathJax.Hub.Config({SVG: {font: \"STIX-Web\"}});}</script>                <script type=\"text/javascript\">window.PlotlyConfig = {MathJaxConfig: 'local'};</script>\n",
              "        <script charset=\"utf-8\" src=\"https://cdn.plot.ly/plotly-2.24.1.min.js\"></script>                <div id=\"c8e08e7a-6743-4d38-928e-25e96b4f255d\" class=\"plotly-graph-div\" style=\"height:525px; width:100%;\"></div>            <script type=\"text/javascript\">                                    window.PLOTLYENV=window.PLOTLYENV || {};                                    if (document.getElementById(\"c8e08e7a-6743-4d38-928e-25e96b4f255d\")) {                    Plotly.newPlot(                        \"c8e08e7a-6743-4d38-928e-25e96b4f255d\",                        [{\"hovertemplate\":\"x=%{x}\\u003cbr\\u003ey=%{y}\\u003cbr\\u003etext=%{text}\\u003cextra\\u003e\\u003c\\u002fextra\\u003e\",\"legendgroup\":\"\",\"marker\":{\"color\":\"#636efa\",\"symbol\":\"circle\"},\"mode\":\"markers+text\",\"name\":\"\",\"orientation\":\"v\",\"showlegend\":false,\"text\":[\"the\",\"and\",\"a\",\"to\",\"in\",\"i\",\"of\",\"was\",\"he\",\"that\",\"with\",\"my\",\"we\",\"on\",\"it\",\"all\",\"for\",\"me\",\"\\u00bb\",\"as\",\"had\",\"his\",\"up\",\"at\",\"dean\",\"like\",\"so\",\"there\",\"from\",\"one\",\"you\",\"were\",\"got\",\"new\",\"went\",\"said\",\"but\",\"him\",\"out\",\"they\",\"time\",\"down\",\"get\",\"off\",\"back\",\"about\",\"this\",\"over\",\"by\",\"just\",\"night\",\"didn\\u2019t\",\"old\",\"into\",\"way\",\"an\",\"west\",\"then\",\"going\",\"some\",\"when\",\"know\",\"or\",\"long\",\"only\",\"no\",\"took\",\"road\",\"would\",\"life\",\"after\",\"big\",\"eddie\",\"what\",\"could\",\"have\",\"man\",\"be\",\"because\",\"which\",\"little\",\"york\",\"car\",\"iowa\",\"few\",\"came\",\"around\",\"she\",\"first\",\"now\",\"carlo\",\"denver\",\"see\",\"other\",\"another\",\"town\",\"right\",\"where\",\"great\",\"is\",\"do\",\"been\",\"across\",\"bus\",\"looked\",\"our\",\"things\",\"i\\u2019d\",\"who\",\"not\",\"wanted\",\"go\",\"them\",\"those\",\"two\",\"their\",\"miles\",\"kind\",\"take\",\"thing\",\"myself\",\"her\",\"told\",\"everything\",\"along\",\"mad\",\"cowboy\",\"any\",\"really\",\"talk\",\"good\",\"us\",\"ride\",\"make\",\"young\",\"how\",\"stopped\",\"come\",\"here\",\"marylou\",\"saw\",\"knew\",\"chicago\",\"can\",\"nebraska\",\"girls\",\"coming\",\"place\",\"i\\u2019m\",\"before\",\"chad\",\"world\",\"people\",\"day\",\"began\",\"work\",\"damn\",\"made\",\"eat\",\"boys\",\"even\",\"line\",\"hours\",\"that\\u2019s\",\"sun\",\"cars\",\"afternoon\",\"6\",\"started\",\"home\",\"under\",\"through\",\"gray\",\"something\",\"country\",\"shelton\",\"course\",\"room\",\"while\",\"days\",\"very\",\"much\",\"doing\",\"island\",\"somewhere\",\"route\",\"its\",\"plains\",\"city\",\"street\",\"saying\",\"guy\",\"write\",\"away\",\"whole\",\"why\",\"north\",\"stuck\",\"aunt\",\"sleep\"],\"x\":[6.975532054901123,2.1272976398468018,7.6220831871032715,-4.922789096832275,6.654344081878662,-3.3477065563201904,-4.131231784820557,1.007084608078003,-2.014434576034546,4.6288652420043945,-3.629176139831543,5.517539978027344,-0.15775030851364136,4.942485809326172,-1.396353006362915,4.58263635635376,0.6207621693611145,-3.403892993927002,-2.742661237716675,-1.8494707345962524,-0.838523805141449,2.560476779937744,-0.41483113169670105,-2.8685734272003174,4.162391185760498,2.4574921131134033,-1.613900899887085,4.788618564605713,3.263441324234009,1.2124329805374146,-3.7962865829467773,3.214968681335449,3.931286096572876,5.065659046173096,-5.033958435058594,-2.4772753715515137,-0.17096802592277527,0.598511278629303,-2.3608431816101074,3.76815128326416,2.178464651107788,3.776648759841919,-4.739794731140137,-1.2389495372772217,2.291391134262085,-3.204625368118286,1.0522139072418213,2.4846792221069336,-3.7205936908721924,-1.1227881908416748,3.3819141387939453,-4.288466453552246,-4.026315212249756,-3.038191556930542,4.361813545227051,-3.5877327919006348,3.7978055477142334,0.012896520085632801,-3.577298879623413,1.4268434047698975,2.7531723976135254,-4.481939315795898,-1.9183549880981445,7.543435096740723,1.0125625133514404,7.292331695556641,4.454013347625732,3.225353717803955,0.9075550436973572,5.885901927947998,0.24976232647895813,1.6791776418685913,-0.10986057668924332,-4.123079299926758,-4.342376232147217,-5.412496566772461,-0.20899944007396698,-5.502987384796143,1.0245410203933716,2.7257447242736816,5.984515190124512,5.952707767486572,-2.932941198348999,-1.516013741493225,-0.405173122882843,-2.5063281059265137,1.2954474687576294,1.6041518449783325,6.621750354766846,0.519267737865448,4.569133281707764,5.925034046173096,-3.4188995361328125,3.798881769180298,-2.5311484336853027,-2.3930482864379883,-1.809689998626709,-1.8662219047546387,0.2553490996360779,-0.34975719451904297,-4.150280952453613,1.5899035930633545,-4.5341362953186035,-1.267293930053711,5.397150039672852,-0.8691307306289673,4.998006343841553,1.2389843463897705,1.8403640985488892,2.746227502822876,-4.6751508712768555,-5.851474761962891,-0.8890377283096313,6.083599090576172,-2.719977617263794,6.1089701652526855,-3.6846351623535156,0.5672329664230347,-3.096620798110962,-0.02631782554090023,-5.043600559234619,5.193776607513428,3.753803014755249,-3.0348808765411377,-1.0726873874664307,2.296267509460449,2.698599338531494,-0.4071221947669983,-3.9024300575256348,2.7017405033111572,-0.9029741883277893,-0.277862012386322,5.184323310852051,-3.256969690322876,5.8538055419921875,-4.153794765472412,2.4296650886535645,-3.420593500137329,1.6720339059829712,4.6913628578186035,2.264641046524048,1.8421417474746704,-0.7455706000328064,-4.127684116363525,-3.436495065689087,3.8134765625,4.590992450714111,-2.257333993911743,-1.770521640777588,1.4338716268539429,3.6584830284118652,6.392203330993652,2.371530532836914,1.5202763080596924,0.296125590801239,0.4881371557712555,0.17141193151474,1.8132542371749878,-2.0750815868377686,-2.7057459354400635,-1.4555091857910156,3.043485164642334,7.336214542388916,0.37924936413764954,2.9860363006591797,-0.270438015460968,-0.11724933981895447,-1.9986350536346436,-1.7196241617202759,4.378828525543213,-0.8572139143943787,-1.2458808422088623,4.698875904083252,3.705035448074341,4.472657680511475,1.348580241203308,2.3441693782806396,4.224568843841553,3.325134515762329,-2.0192463397979736,-0.09543319046497345,-1.5772398710250854,1.5517209768295288,2.9955146312713623,-1.033036708831787,-0.8620801568031311,1.844077467918396,-4.1273298263549805,2.7710230350494385,-2.4118735790252686,-1.1607927083969116,0.3169746398925781,-2.5265390872955322,1.9187889099121094,5.455936908721924,0.8614417910575867,3.4534666538238525,3.440243721008301,3.6963319778442383,1.267988681793213],\"xaxis\":\"x\",\"y\":[-2.0744283199310303,-3.364637613296509,1.1110612154006958,-0.9068390130996704,-0.97301185131073,-2.234273672103882,3.398569345474243,-6.262587547302246,-3.529872179031372,4.071627140045166,2.830432176589966,1.0737237930297852,2.155153512954712,-1.4223881959915161,-4.696992874145508,3.501091718673706,-4.490927696228027,-1.0211340188980103,-2.412940740585327,-3.6574933528900146,-1.6983189582824707,1.49653959274292,-1.3220402002334595,3.463749408721924,-5.455384254455566,1.9551748037338257,-3.451512336730957,-4.040849685668945,1.524074673652649,-2.806159019470215,-1.336737036705017,5.5047993659973145,-0.29525643587112427,2.4005160331726074,2.0555622577667236,-2.9864890575408936,-0.531719446182251,-2.349928617477417,5.621662139892578,5.729466438293457,2.8429388999938965,-1.0715843439102173,-2.1213228702545166,7.203099250793457,1.0888618230819702,-4.766770362854004,2.6686296463012695,-4.92944860458374,5.353745937347412,1.0630149841308594,-3.534543037414551,-3.7659926414489746,5.9068217277526855,6.157389163970947,3.028524875640869,5.337168216705322,-2.9412527084350586,2.38773775100708,-2.263518810272217,1.0752546787261963,3.6937060356140137,-3.981879472732544,0.3003354072570801,1.8140093088150024,7.192934036254883,-3.3411011695861816,-0.4553748667240143,-3.8793418407440186,4.53651762008667,1.1643069982528687,5.826125621795654,-4.05419397354126,-3.367708683013916,-3.5188097953796387,-0.2130306214094162,-3.2618956565856934,-2.530496835708618,-3.249539613723755,-6.2391815185546875,6.951973915100098,-4.207772254943848,3.0499789714813232,6.702426910400391,5.283607482910156,-5.669938564300537,3.8623688220977783,-3.546577215194702,-4.969464302062988,0.07443168014287949,-3.1051480770111084,-5.699289798736572,-2.8465981483459473,0.1975279301404953,0.9736747741699219,5.527611255645752,5.686857223510742,-1.7225465774536133,5.879520893096924,3.4169223308563232,0.1321602761745453,-2.604952096939087,3.134169340133667,4.4702653884887695,7.143804550170898,-0.8792089223861694,-1.0565687417984009,4.605400562286377,3.8731539249420166,5.55456018447876,3.4109880924224854,-1.2069768905639648,-1.6822283267974854,0.014422206208109856,-1.763426423072815,2.923112154006958,3.1401963233947754,6.043059825897217,-0.833957314491272,0.2982279062271118,-2.014132022857666,-1.988795518875122,-2.1349377632141113,-5.41721248626709,-3.7134833335876465,2.8097574710845947,5.504828929901123,-2.6060779094696045,3.9174468517303467,-3.851094961166382,6.091952323913574,-2.1658248901367188,-4.08660364151001,-0.008443651720881462,-0.8568063378334045,-4.096127986907959,-2.967010974884033,0.6743795871734619,-1.3557326793670654,2.5200676918029785,-3.281933069229126,0.5015185475349426,-2.980234146118164,5.5439043045043945,-0.5315235257148743,4.560886383056641,3.8974740505218506,2.0181376934051514,1.4777591228485107,-0.3709167540073395,2.6162617206573486,-5.18244743347168,-0.8519186973571777,5.029172420501709,-2.3649377822875977,-1.2703477144241333,-0.1551755964756012,-1.137774109840393,0.0864943265914917,-1.5137262344360352,1.5674487352371216,0.40275949239730835,-3.8788905143737793,1.6353071928024292,1.17020845413208,-2.0689644813537598,4.076035499572754,2.577247142791748,2.2783637046813965,-1.190792441368103,1.5184086561203003,3.0687451362609863,4.520284175872803,1.7485052347183228,2.586376905441284,-1.8665871620178223,-2.1508586406707764,-2.2099218368530273,-1.7757368087768555,-0.4793723523616791,0.5751310586929321,0.7565662264823914,-3.216858386993408,2.8598670959472656,-0.4309399127960205,2.5625691413879395,4.732162952423096,-1.1555519104003906,4.642680644989014,-0.15536126494407654,3.3706698417663574,-0.8781710267066956,0.9081552624702454,-1.978588342666626,0.7671135067939758,1.557930827140808,-1.621156930923462,2.4239189624786377,-1.3134855031967163,0.25693628191947937,0.377421498298645],\"yaxis\":\"y\",\"type\":\"scatter\"}],                        {\"template\":{\"data\":{\"histogram2dcontour\":[{\"type\":\"histogram2dcontour\",\"colorbar\":{\"outlinewidth\":0,\"ticks\":\"\"},\"colorscale\":[[0.0,\"#0d0887\"],[0.1111111111111111,\"#46039f\"],[0.2222222222222222,\"#7201a8\"],[0.3333333333333333,\"#9c179e\"],[0.4444444444444444,\"#bd3786\"],[0.5555555555555556,\"#d8576b\"],[0.6666666666666666,\"#ed7953\"],[0.7777777777777778,\"#fb9f3a\"],[0.8888888888888888,\"#fdca26\"],[1.0,\"#f0f921\"]]}],\"choropleth\":[{\"type\":\"choropleth\",\"colorbar\":{\"outlinewidth\":0,\"ticks\":\"\"}}],\"histogram2d\":[{\"type\":\"histogram2d\",\"colorbar\":{\"outlinewidth\":0,\"ticks\":\"\"},\"colorscale\":[[0.0,\"#0d0887\"],[0.1111111111111111,\"#46039f\"],[0.2222222222222222,\"#7201a8\"],[0.3333333333333333,\"#9c179e\"],[0.4444444444444444,\"#bd3786\"],[0.5555555555555556,\"#d8576b\"],[0.6666666666666666,\"#ed7953\"],[0.7777777777777778,\"#fb9f3a\"],[0.8888888888888888,\"#fdca26\"],[1.0,\"#f0f921\"]]}],\"heatmap\":[{\"type\":\"heatmap\",\"colorbar\":{\"outlinewidth\":0,\"ticks\":\"\"},\"colorscale\":[[0.0,\"#0d0887\"],[0.1111111111111111,\"#46039f\"],[0.2222222222222222,\"#7201a8\"],[0.3333333333333333,\"#9c179e\"],[0.4444444444444444,\"#bd3786\"],[0.5555555555555556,\"#d8576b\"],[0.6666666666666666,\"#ed7953\"],[0.7777777777777778,\"#fb9f3a\"],[0.8888888888888888,\"#fdca26\"],[1.0,\"#f0f921\"]]}],\"heatmapgl\":[{\"type\":\"heatmapgl\",\"colorbar\":{\"outlinewidth\":0,\"ticks\":\"\"},\"colorscale\":[[0.0,\"#0d0887\"],[0.1111111111111111,\"#46039f\"],[0.2222222222222222,\"#7201a8\"],[0.3333333333333333,\"#9c179e\"],[0.4444444444444444,\"#bd3786\"],[0.5555555555555556,\"#d8576b\"],[0.6666666666666666,\"#ed7953\"],[0.7777777777777778,\"#fb9f3a\"],[0.8888888888888888,\"#fdca26\"],[1.0,\"#f0f921\"]]}],\"contourcarpet\":[{\"type\":\"contourcarpet\",\"colorbar\":{\"outlinewidth\":0,\"ticks\":\"\"}}],\"contour\":[{\"type\":\"contour\",\"colorbar\":{\"outlinewidth\":0,\"ticks\":\"\"},\"colorscale\":[[0.0,\"#0d0887\"],[0.1111111111111111,\"#46039f\"],[0.2222222222222222,\"#7201a8\"],[0.3333333333333333,\"#9c179e\"],[0.4444444444444444,\"#bd3786\"],[0.5555555555555556,\"#d8576b\"],[0.6666666666666666,\"#ed7953\"],[0.7777777777777778,\"#fb9f3a\"],[0.8888888888888888,\"#fdca26\"],[1.0,\"#f0f921\"]]}],\"surface\":[{\"type\":\"surface\",\"colorbar\":{\"outlinewidth\":0,\"ticks\":\"\"},\"colorscale\":[[0.0,\"#0d0887\"],[0.1111111111111111,\"#46039f\"],[0.2222222222222222,\"#7201a8\"],[0.3333333333333333,\"#9c179e\"],[0.4444444444444444,\"#bd3786\"],[0.5555555555555556,\"#d8576b\"],[0.6666666666666666,\"#ed7953\"],[0.7777777777777778,\"#fb9f3a\"],[0.8888888888888888,\"#fdca26\"],[1.0,\"#f0f921\"]]}],\"mesh3d\":[{\"type\":\"mesh3d\",\"colorbar\":{\"outlinewidth\":0,\"ticks\":\"\"}}],\"scatter\":[{\"fillpattern\":{\"fillmode\":\"overlay\",\"size\":10,\"solidity\":0.2},\"type\":\"scatter\"}],\"parcoords\":[{\"type\":\"parcoords\",\"line\":{\"colorbar\":{\"outlinewidth\":0,\"ticks\":\"\"}}}],\"scatterpolargl\":[{\"type\":\"scatterpolargl\",\"marker\":{\"colorbar\":{\"outlinewidth\":0,\"ticks\":\"\"}}}],\"bar\":[{\"error_x\":{\"color\":\"#2a3f5f\"},\"error_y\":{\"color\":\"#2a3f5f\"},\"marker\":{\"line\":{\"color\":\"#E5ECF6\",\"width\":0.5},\"pattern\":{\"fillmode\":\"overlay\",\"size\":10,\"solidity\":0.2}},\"type\":\"bar\"}],\"scattergeo\":[{\"type\":\"scattergeo\",\"marker\":{\"colorbar\":{\"outlinewidth\":0,\"ticks\":\"\"}}}],\"scatterpolar\":[{\"type\":\"scatterpolar\",\"marker\":{\"colorbar\":{\"outlinewidth\":0,\"ticks\":\"\"}}}],\"histogram\":[{\"marker\":{\"pattern\":{\"fillmode\":\"overlay\",\"size\":10,\"solidity\":0.2}},\"type\":\"histogram\"}],\"scattergl\":[{\"type\":\"scattergl\",\"marker\":{\"colorbar\":{\"outlinewidth\":0,\"ticks\":\"\"}}}],\"scatter3d\":[{\"type\":\"scatter3d\",\"line\":{\"colorbar\":{\"outlinewidth\":0,\"ticks\":\"\"}},\"marker\":{\"colorbar\":{\"outlinewidth\":0,\"ticks\":\"\"}}}],\"scattermapbox\":[{\"type\":\"scattermapbox\",\"marker\":{\"colorbar\":{\"outlinewidth\":0,\"ticks\":\"\"}}}],\"scatterternary\":[{\"type\":\"scatterternary\",\"marker\":{\"colorbar\":{\"outlinewidth\":0,\"ticks\":\"\"}}}],\"scattercarpet\":[{\"type\":\"scattercarpet\",\"marker\":{\"colorbar\":{\"outlinewidth\":0,\"ticks\":\"\"}}}],\"carpet\":[{\"aaxis\":{\"endlinecolor\":\"#2a3f5f\",\"gridcolor\":\"white\",\"linecolor\":\"white\",\"minorgridcolor\":\"white\",\"startlinecolor\":\"#2a3f5f\"},\"baxis\":{\"endlinecolor\":\"#2a3f5f\",\"gridcolor\":\"white\",\"linecolor\":\"white\",\"minorgridcolor\":\"white\",\"startlinecolor\":\"#2a3f5f\"},\"type\":\"carpet\"}],\"table\":[{\"cells\":{\"fill\":{\"color\":\"#EBF0F8\"},\"line\":{\"color\":\"white\"}},\"header\":{\"fill\":{\"color\":\"#C8D4E3\"},\"line\":{\"color\":\"white\"}},\"type\":\"table\"}],\"barpolar\":[{\"marker\":{\"line\":{\"color\":\"#E5ECF6\",\"width\":0.5},\"pattern\":{\"fillmode\":\"overlay\",\"size\":10,\"solidity\":0.2}},\"type\":\"barpolar\"}],\"pie\":[{\"automargin\":true,\"type\":\"pie\"}]},\"layout\":{\"autotypenumbers\":\"strict\",\"colorway\":[\"#636efa\",\"#EF553B\",\"#00cc96\",\"#ab63fa\",\"#FFA15A\",\"#19d3f3\",\"#FF6692\",\"#B6E880\",\"#FF97FF\",\"#FECB52\"],\"font\":{\"color\":\"#2a3f5f\"},\"hovermode\":\"closest\",\"hoverlabel\":{\"align\":\"left\"},\"paper_bgcolor\":\"white\",\"plot_bgcolor\":\"#E5ECF6\",\"polar\":{\"bgcolor\":\"#E5ECF6\",\"angularaxis\":{\"gridcolor\":\"white\",\"linecolor\":\"white\",\"ticks\":\"\"},\"radialaxis\":{\"gridcolor\":\"white\",\"linecolor\":\"white\",\"ticks\":\"\"}},\"ternary\":{\"bgcolor\":\"#E5ECF6\",\"aaxis\":{\"gridcolor\":\"white\",\"linecolor\":\"white\",\"ticks\":\"\"},\"baxis\":{\"gridcolor\":\"white\",\"linecolor\":\"white\",\"ticks\":\"\"},\"caxis\":{\"gridcolor\":\"white\",\"linecolor\":\"white\",\"ticks\":\"\"}},\"coloraxis\":{\"colorbar\":{\"outlinewidth\":0,\"ticks\":\"\"}},\"colorscale\":{\"sequential\":[[0.0,\"#0d0887\"],[0.1111111111111111,\"#46039f\"],[0.2222222222222222,\"#7201a8\"],[0.3333333333333333,\"#9c179e\"],[0.4444444444444444,\"#bd3786\"],[0.5555555555555556,\"#d8576b\"],[0.6666666666666666,\"#ed7953\"],[0.7777777777777778,\"#fb9f3a\"],[0.8888888888888888,\"#fdca26\"],[1.0,\"#f0f921\"]],\"sequentialminus\":[[0.0,\"#0d0887\"],[0.1111111111111111,\"#46039f\"],[0.2222222222222222,\"#7201a8\"],[0.3333333333333333,\"#9c179e\"],[0.4444444444444444,\"#bd3786\"],[0.5555555555555556,\"#d8576b\"],[0.6666666666666666,\"#ed7953\"],[0.7777777777777778,\"#fb9f3a\"],[0.8888888888888888,\"#fdca26\"],[1.0,\"#f0f921\"]],\"diverging\":[[0,\"#8e0152\"],[0.1,\"#c51b7d\"],[0.2,\"#de77ae\"],[0.3,\"#f1b6da\"],[0.4,\"#fde0ef\"],[0.5,\"#f7f7f7\"],[0.6,\"#e6f5d0\"],[0.7,\"#b8e186\"],[0.8,\"#7fbc41\"],[0.9,\"#4d9221\"],[1,\"#276419\"]]},\"xaxis\":{\"gridcolor\":\"white\",\"linecolor\":\"white\",\"ticks\":\"\",\"title\":{\"standoff\":15},\"zerolinecolor\":\"white\",\"automargin\":true,\"zerolinewidth\":2},\"yaxis\":{\"gridcolor\":\"white\",\"linecolor\":\"white\",\"ticks\":\"\",\"title\":{\"standoff\":15},\"zerolinecolor\":\"white\",\"automargin\":true,\"zerolinewidth\":2},\"scene\":{\"xaxis\":{\"backgroundcolor\":\"#E5ECF6\",\"gridcolor\":\"white\",\"linecolor\":\"white\",\"showbackground\":true,\"ticks\":\"\",\"zerolinecolor\":\"white\",\"gridwidth\":2},\"yaxis\":{\"backgroundcolor\":\"#E5ECF6\",\"gridcolor\":\"white\",\"linecolor\":\"white\",\"showbackground\":true,\"ticks\":\"\",\"zerolinecolor\":\"white\",\"gridwidth\":2},\"zaxis\":{\"backgroundcolor\":\"#E5ECF6\",\"gridcolor\":\"white\",\"linecolor\":\"white\",\"showbackground\":true,\"ticks\":\"\",\"zerolinecolor\":\"white\",\"gridwidth\":2}},\"shapedefaults\":{\"line\":{\"color\":\"#2a3f5f\"}},\"annotationdefaults\":{\"arrowcolor\":\"#2a3f5f\",\"arrowhead\":0,\"arrowwidth\":1},\"geo\":{\"bgcolor\":\"white\",\"landcolor\":\"#E5ECF6\",\"subunitcolor\":\"white\",\"showland\":true,\"showlakes\":true,\"lakecolor\":\"white\"},\"title\":{\"x\":0.05},\"mapbox\":{\"style\":\"light\"}}},\"xaxis\":{\"anchor\":\"y\",\"domain\":[0.0,1.0],\"title\":{\"text\":\"x\"}},\"yaxis\":{\"anchor\":\"x\",\"domain\":[0.0,1.0],\"title\":{\"text\":\"y\"}},\"legend\":{\"tracegroupgap\":0},\"margin\":{\"t\":60}},                        {\"responsive\": true}                    ).then(function(){\n",
              "                            \n",
              "var gd = document.getElementById('c8e08e7a-6743-4d38-928e-25e96b4f255d');\n",
              "var x = new MutationObserver(function (mutations, observer) {{\n",
              "        var display = window.getComputedStyle(gd).display;\n",
              "        if (!display || display === 'none') {{\n",
              "            console.log([gd, 'removed!']);\n",
              "            Plotly.purge(gd);\n",
              "            observer.disconnect();\n",
              "        }}\n",
              "}});\n",
              "\n",
              "// Listen for the removal of the full notebook cells\n",
              "var notebookContainer = gd.closest('#notebook-container');\n",
              "if (notebookContainer) {{\n",
              "    x.observe(notebookContainer, {childList: true});\n",
              "}}\n",
              "\n",
              "// Listen for the clearing of the current output cell\n",
              "var outputEl = gd.closest('.output');\n",
              "if (outputEl) {{\n",
              "    x.observe(outputEl, {childList: true});\n",
              "}}\n",
              "\n",
              "                        })                };                            </script>        </div>\n",
              "</body>\n",
              "</html>"
            ]
          },
          "metadata": {}
        }
      ]
    },
    {
      "cell_type": "markdown",
      "source": [
        "No se si se puede ver en el segundo grafico (si es que quedo hecho el acercamiento que realice) pero este detalle me parecio muy interesante y me gusto mucho ya qeu es parte de una de las frases que mas me gustan de este libro y es la de \"I shambled after as I’ve been doing all my life\n",
        "after people who interest me, because the only people for me are the mad ones, the ones who are mad to live, mad to talk, mad to be saved, desirous of everything at the same time...\"\n",
        "Por esa razon podemos observar los embeddings de las palabras -People, Who, Mad- todas juntas en proximidad.\n",
        "Tambien notamos proximidad entre las palabras New y York por razones obvias y casi todas las palabras qeu se puedan relacionar con \"car\" se encuentran cerca de la misma."
      ],
      "metadata": {
        "id": "TUjL6Mn2gp0j"
      }
    },
    {
      "cell_type": "code",
      "source": [
        "# Graficar los embedddings en 3D\n",
        "\n",
        "vecs, labels = reduce_dimensions(w2v_model,3)\n",
        "\n",
        "fig = px.scatter_3d(x=vecs[:MAX_WORDS,0], y=vecs[:MAX_WORDS,1], z=vecs[:MAX_WORDS,2],text=labels[:MAX_WORDS])\n",
        "fig.update_traces(marker_size = 2)\n",
        "fig.show(renderer=\"colab\") # esto para plotly en colab"
      ],
      "metadata": {
        "colab": {
          "base_uri": "https://localhost:8080/",
          "height": 542
        },
        "id": "eTerk3CliISp",
        "outputId": "a9c783cb-cb58-48f9-d19b-d60e881a3f0c"
      },
      "execution_count": null,
      "outputs": [
        {
          "output_type": "display_data",
          "data": {
            "text/html": [
              "<html>\n",
              "<head><meta charset=\"utf-8\" /></head>\n",
              "<body>\n",
              "    <div>            <script src=\"https://cdnjs.cloudflare.com/ajax/libs/mathjax/2.7.5/MathJax.js?config=TeX-AMS-MML_SVG\"></script><script type=\"text/javascript\">if (window.MathJax && window.MathJax.Hub && window.MathJax.Hub.Config) {window.MathJax.Hub.Config({SVG: {font: \"STIX-Web\"}});}</script>                <script type=\"text/javascript\">window.PlotlyConfig = {MathJaxConfig: 'local'};</script>\n",
              "        <script charset=\"utf-8\" src=\"https://cdn.plot.ly/plotly-2.24.1.min.js\"></script>                <div id=\"b048b15e-b322-4be8-9071-5a5470ada689\" class=\"plotly-graph-div\" style=\"height:525px; width:100%;\"></div>            <script type=\"text/javascript\">                                    window.PLOTLYENV=window.PLOTLYENV || {};                                    if (document.getElementById(\"b048b15e-b322-4be8-9071-5a5470ada689\")) {                    Plotly.newPlot(                        \"b048b15e-b322-4be8-9071-5a5470ada689\",                        [{\"hovertemplate\":\"x=%{x}\\u003cbr\\u003ey=%{y}\\u003cbr\\u003ez=%{z}\\u003cbr\\u003etext=%{text}\\u003cextra\\u003e\\u003c\\u002fextra\\u003e\",\"legendgroup\":\"\",\"marker\":{\"color\":\"#636efa\",\"symbol\":\"circle\",\"size\":2},\"mode\":\"markers+text\",\"name\":\"\",\"scene\":\"scene\",\"showlegend\":false,\"text\":[\"the\",\"and\",\"a\",\"to\",\"in\",\"i\",\"of\",\"was\",\"he\",\"that\",\"with\",\"my\",\"we\",\"on\",\"it\",\"all\",\"for\",\"me\",\"\\u00bb\",\"as\",\"had\",\"his\",\"up\",\"at\",\"dean\",\"like\",\"so\",\"there\",\"from\",\"one\",\"you\",\"were\",\"got\",\"new\",\"went\",\"said\",\"but\",\"him\",\"out\",\"they\",\"time\",\"down\",\"get\",\"off\",\"back\",\"about\",\"this\",\"over\",\"by\",\"just\",\"night\",\"didn\\u2019t\",\"old\",\"into\",\"way\",\"an\",\"west\",\"then\",\"going\",\"some\",\"when\",\"know\",\"or\",\"long\",\"only\",\"no\",\"took\",\"road\",\"would\",\"life\",\"after\",\"big\",\"eddie\",\"what\",\"could\",\"have\",\"man\",\"be\",\"because\",\"which\",\"little\",\"york\",\"car\",\"iowa\",\"few\",\"came\",\"around\",\"she\",\"first\",\"now\",\"carlo\",\"denver\",\"see\",\"other\",\"another\",\"town\",\"right\",\"where\",\"great\",\"is\",\"do\",\"been\",\"across\",\"bus\",\"looked\",\"our\",\"things\",\"i\\u2019d\",\"who\",\"not\",\"wanted\",\"go\",\"them\",\"those\",\"two\",\"their\",\"miles\",\"kind\",\"take\",\"thing\",\"myself\",\"her\",\"told\",\"everything\",\"along\",\"mad\",\"cowboy\",\"any\",\"really\",\"talk\",\"good\",\"us\",\"ride\",\"make\",\"young\",\"how\",\"stopped\",\"come\",\"here\",\"marylou\",\"saw\",\"knew\",\"chicago\",\"can\",\"nebraska\",\"girls\",\"coming\",\"place\",\"i\\u2019m\",\"before\",\"chad\",\"world\",\"people\",\"day\",\"began\",\"work\",\"damn\",\"made\",\"eat\",\"boys\",\"even\",\"line\",\"hours\",\"that\\u2019s\",\"sun\",\"cars\",\"afternoon\",\"6\",\"started\",\"home\",\"under\",\"through\",\"gray\",\"something\",\"country\",\"shelton\",\"course\",\"room\",\"while\",\"days\",\"very\",\"much\",\"doing\",\"island\",\"somewhere\",\"route\",\"its\",\"plains\",\"city\",\"street\",\"saying\",\"guy\",\"write\",\"away\",\"whole\",\"why\",\"north\",\"stuck\",\"aunt\",\"sleep\"],\"x\":[-33.6230354309082,-77.62711334228516,-53.109466552734375,64.0619125366211,-82.32632446289062,92.41615295410156,-53.51226043701172,31.164413452148438,63.02334213256836,57.059715270996094,-58.58721160888672,-19.192476272583008,33.55408477783203,-42.38856887817383,85.844482421875,6.267864227294922,63.26498031616211,65.58191680908203,40.85508728027344,73.69762420654297,4.122111797332764,-59.729209899902344,53.429134368896484,-20.605772018432617,-37.394657135009766,-17.672195434570312,54.93391799926758,-18.539527893066406,60.83871841430664,-18.476783752441406,88.5518798828125,48.80420684814453,19.23197364807129,-22.712575912475586,-0.7343997359275818,44.54972457885742,21.97530174255371,-86.20933532714844,-34.01758575439453,57.9495964050293,-65.59021759033203,2.7592275142669678,52.371131896972656,-46.84882354736328,-58.2829475402832,66.53765869140625,3.717376947402954,-25.86377716064453,-43.05366134643555,40.73741912841797,-36.47486877441406,77.66084289550781,-58.92092514038086,-31.942825317382812,-2.7556400299072266,-57.996604919433594,-52.011592864990234,27.29659080505371,45.29253387451172,27.42844581604004,-5.226463317871094,83.47315216064453,45.41069793701172,-61.41666793823242,53.560752868652344,1.9821230173110962,26.747236251831055,-39.02834701538086,86.23212432861328,-31.06922149658203,-33.88570022583008,-55.5660514831543,-67.92720794677734,90.09455871582031,59.208335876464844,46.028526306152344,-54.96986389160156,35.23633575439453,15.458389282226562,60.431331634521484,32.36154556274414,-58.670806884765625,-50.356292724609375,-18.723304748535156,30.996585845947266,-73.29335021972656,-90.68810272216797,-37.03036117553711,-86.18699645996094,-5.144779205322266,-50.76258087158203,62.667320251464844,41.3908805847168,-31.269378662109375,-49.24645233154297,-9.13766860961914,25.31083106994629,-23.37575340270996,-9.835037231445312,22.17920684814453,87.161865234375,-3.6343374252319336,-54.053863525390625,-49.8603630065918,13.436790466308594,31.670942306518555,62.030479431152344,5.5696868896484375,58.00457000732422,49.2758903503418,49.25965118408203,20.179983139038086,71.44622039794922,-72.88229370117188,-77.20222473144531,-67.4798355102539,-70.12046813964844,-33.7845344543457,26.34148406982422,19.397201538085938,31.983301162719727,-36.42647933959961,-26.440967559814453,77.18252563476562,-90.30844116210938,63.58507537841797,-66.16038513183594,10.4901762008667,68.07843017578125,84.0243911743164,27.93927764892578,2.259289026260376,9.145825386047363,46.75053405761719,26.45476722717285,72.93830871582031,-73.08451080322266,67.0674819946289,-20.698650360107422,-5.8769659996032715,-54.35624694824219,38.582401275634766,-53.5887451171875,57.387596130371094,-31.711551666259766,-6.043207168579102,-39.67613220214844,-5.8562822341918945,85.60108184814453,-13.492186546325684,-20.997079849243164,-72.43365478515625,27.609779357910156,-31.125036239624023,60.1795654296875,42.951053619384766,14.228354454040527,-49.414222717285156,40.148895263671875,-11.113602638244629,34.987892150878906,-63.815277099609375,-41.92615509033203,18.70126724243164,-47.973182678222656,31.02231216430664,-5.236670017242432,12.896913528442383,30.003074645996094,-21.268712997436523,-69.7210464477539,-11.536158561706543,-46.32826614379883,21.984331130981445,-22.588884353637695,31.645118713378906,-18.272274017333984,-19.11440658569336,-6.818174362182617,24.160438537597656,-28.42099380493164,41.13457107543945,0.9814107418060303,-37.30757522583008,4.363473415374756,-4.141437530517578,-51.56065368652344,-62.53558349609375,-35.31776809692383,-7.699930191040039,37.834197998046875,11.872894287109375,67.81166076660156,-43.4813346862793,-31.443675994873047,55.77545166015625,20.442045211791992,11.091278076171875,11.117661476135254,-15.075166702270508],\"y\":[-62.8276252746582,57.505184173583984,-73.45511627197266,37.49154281616211,-16.670278549194336,-10.316707611083984,-52.42224884033203,-83.68159484863281,-15.013215065002441,52.0452995300293,-19.027990341186523,72.2806625366211,69.15636444091797,39.7734375,43.41605758666992,79.59790802001953,-56.452178955078125,54.753639221191406,1.847642421722412,-35.55620193481445,7.515881538391113,24.408788681030273,33.540184020996094,-38.44711685180664,-69.6167984008789,-40.944190979003906,-31.107934951782227,-79.12163543701172,-29.75518226623535,-72.02479553222656,48.2454948425293,-15.415919303894043,-31.63982582092285,88.28034210205078,-63.23360061645508,-9.961406707763672,-5.1410698890686035,25.446372985839844,-16.145641326904297,3.412245988845825,-29.291851043701172,-48.49024963378906,12.169336318969727,-41.60980987548828,38.47085189819336,26.476726531982422,-21.226604461669922,46.7621955871582,10.202277183532715,51.02865219116211,-57.22170639038086,-5.141356945037842,2.9903366565704346,-36.32452392578125,62.478492736816406,5.050644397735596,-7.012650966644287,56.2718505859375,57.41504669189453,25.61911392211914,48.81922912597656,-22.30350685119629,14.819478034973145,-62.32340621948242,-10.51044750213623,80.59330749511719,-68.77894592285156,-35.213661193847656,27.435928344726562,53.87852096557617,-60.066349029541016,39.7114372253418,17.826168060302734,-0.871646523475647,62.368099212646484,-11.768877983093262,43.38346481323242,-3.8937652111053467,-82.3514175415039,40.766788482666016,-48.0660285949707,61.57141876220703,-33.24012756347656,-34.780670166015625,-56.89494705200195,26.73398780822754,16.877059936523438,16.70124626159668,-42.71043014526367,8.954568862915039,76.36308288574219,-20.549530029296875,68.74809265136719,69.66639709472656,-14.99347972869873,-26.781536102294922,42.74039840698242,-9.612955093383789,-77.79940795898438,1.863301157951355,20.437889099121094,51.82109451293945,-73.8980712890625,-33.91849899291992,-60.17903518676758,-29.520212173461914,72.6917495727539,16.300994873046875,-35.39227294921875,-65.24784851074219,34.736270904541016,30.265790939331055,5.217211723327637,53.17426300048828,-41.789794921875,-53.05930709838867,-16.132160186767578,11.774258613586426,71.77351379394531,-56.54389190673828,14.310134887695312,15.034575462341309,-92.20083618164062,7.165665626525879,-17.375396728515625,-51.02944564819336,3.5935680866241455,-32.28992462158203,-6.856901168823242,8.823066711425781,90.91191101074219,74.41571807861328,-89.61846160888672,44.773990631103516,-32.881996154785156,13.50588321685791,7.316372871398926,34.580074310302734,33.11739730834961,-62.25086212158203,15.121660232543945,-75.87294006347656,65.57666778564453,43.58308029174805,14.326041221618652,43.79627990722656,63.82288360595703,99.8736343383789,-20.861358642578125,49.339168548583984,-74.71822357177734,-27.309606552124023,-0.0363570973277092,-61.647125244140625,31.807268142700195,8.025323867797852,-45.357460021972656,-2.1985433101654053,30.921615600585938,13.132899284362793,28.93468475341797,-40.19953536987305,-61.7938346862793,-1.5751758813858032,-8.489636421203613,-24.813199996948242,11.35893726348877,53.27288055419922,21.05251693725586,64.62828826904297,-11.483983993530273,7.975554466247559,41.64810562133789,41.4765739440918,-9.40176773071289,-48.759925842285156,-49.29862976074219,-2.7174935340881348,-18.13045310974121,32.037330627441406,58.609657287597656,-27.490232467651367,32.92476272583008,16.36236000061035,-6.016139507293701,18.35384178161621,-7.759397506713867,-59.175106048583984,13.110067367553711,-26.559829711914062,-12.002801895141602,25.586273193359375,2.1638617515563965,29.947240829467773,40.167144775390625,-49.4424934387207,21.58363914489746,-21.939044952392578,58.74342346191406,22.86243438720703],\"z\":[-67.322021484375,14.037830352783203,24.829790115356445,-61.58723068237305,-44.72608184814453,-9.45610237121582,-24.33186912536621,-21.239585876464844,-15.510939598083496,15.744848251342773,10.6808500289917,58.68039321899414,26.635997772216797,-23.065298080444336,17.53434181213379,15.408775329589844,34.484039306640625,-9.407478332519531,-34.53752899169922,-16.417667388916016,-70.3453369140625,21.760377883911133,73.06858825683594,32.110511779785156,-8.817917823791504,-60.801246643066406,-29.461101531982422,9.4465913772583,51.293556213378906,38.5241813659668,-15.79590129852295,28.8030948638916,-61.07545471191406,29.760509490966797,61.603092193603516,-50.98464584350586,70.22683715820312,-18.786970138549805,74.4490966796875,31.948041915893555,-11.103039741516113,-39.86891174316406,-63.678077697753906,18.499032974243164,0.8489149808883667,21.616331100463867,-85.20968627929688,-0.35093972086906433,55.88819885253906,43.13448715209961,-43.886959075927734,-60.47268295288086,46.11806869506836,84.7192611694336,4.053711891174316,74.94963836669922,-65.57245635986328,6.713925361633301,-57.85942840576172,82.70846557617188,-81.48342895507812,-47.64155197143555,9.174660682678223,48.12694549560547,75.37979888916016,-57.781890869140625,54.55582046508789,-75.45519256591797,-33.811946868896484,62.987003326416016,65.36253356933594,73.54877471923828,-65.40010070800781,-40.237083435058594,-34.56972885131836,-78.04199981689453,-53.80318069458008,-86.54894256591797,-26.177274703979492,39.710304260253906,35.44086837768555,43.56495666503906,63.44805908203125,57.136070251464844,-41.64640426635742,48.97447967529297,26.77586555480957,-85.90483856201172,-24.659931182861328,-97.75984191894531,-41.5257453918457,8.654669761657715,-15.367667198181152,-22.87921905517578,86.94589233398438,79.46250915527344,-46.33547592163086,91.88321685791016,-52.53727340698242,97.07542419433594,-2.477290630340576,-49.14208984375,-44.76958465576172,33.55181121826172,-67.85116577148438,-19.094560623168945,24.75312042236328,-40.20354080200195,-63.097896575927734,-19.351268768310547,-75.57414245605469,-70.61216735839844,58.346675872802734,-26.432950973510742,28.875713348388672,3.4622128009796143,58.384727478027344,22.092721939086914,-37.21304702758789,-14.393953323364258,-62.84280776977539,-51.08365249633789,-19.047292709350586,-19.883424758911133,16.832561492919922,-47.54402160644531,-29.103214263916016,53.91358184814453,-39.892269134521484,25.033235549926758,-4.880401134490967,-23.31087875366211,6.0891828536987305,-15.22665786743164,28.290414810180664,-52.596370697021484,3.504979372024536,-19.778324127197266,-36.584144592285156,-1.9630842208862305,-1.9610909223556519,12.385636329650879,-3.2887535095214844,-40.0628776550293,76.63789367675781,52.70820236206055,23.09381866455078,-6.685319423675537,27.943119049072266,-27.118404388427734,-21.418502807617188,-34.417057037353516,2.0990078449249268,26.301918029785156,4.122403144836426,53.67103576660156,1.0375409126281738,21.045455932617188,-46.932437896728516,89.60324096679688,3.585873603820801,-64.79801177978516,46.773860931396484,-48.48609161376953,-37.32571792602539,54.4779167175293,29.253253936767578,77.45436096191406,-36.829463958740234,37.24873352050781,28.843936920166016,50.11676788330078,31.78578758239746,55.13352966308594,-67.85658264160156,8.622896194458008,-26.14572525024414,-48.9157600402832,4.042128086090088,-18.321088790893555,-55.58348846435547,-40.27149200439453,-47.184383392333984,-27.30682373046875,36.25191116333008,64.96166229248047,-10.838229179382324,-50.08772659301758,-10.395669937133789,28.598031997680664,-16.842905044555664,7.282662391662598,6.058073997497559,8.913493156433105,49.03511428833008,4.911541938781738,56.39406204223633,-34.82656478881836,35.336421966552734,0.7856268286705017],\"type\":\"scatter3d\"}],                        {\"template\":{\"data\":{\"histogram2dcontour\":[{\"type\":\"histogram2dcontour\",\"colorbar\":{\"outlinewidth\":0,\"ticks\":\"\"},\"colorscale\":[[0.0,\"#0d0887\"],[0.1111111111111111,\"#46039f\"],[0.2222222222222222,\"#7201a8\"],[0.3333333333333333,\"#9c179e\"],[0.4444444444444444,\"#bd3786\"],[0.5555555555555556,\"#d8576b\"],[0.6666666666666666,\"#ed7953\"],[0.7777777777777778,\"#fb9f3a\"],[0.8888888888888888,\"#fdca26\"],[1.0,\"#f0f921\"]]}],\"choropleth\":[{\"type\":\"choropleth\",\"colorbar\":{\"outlinewidth\":0,\"ticks\":\"\"}}],\"histogram2d\":[{\"type\":\"histogram2d\",\"colorbar\":{\"outlinewidth\":0,\"ticks\":\"\"},\"colorscale\":[[0.0,\"#0d0887\"],[0.1111111111111111,\"#46039f\"],[0.2222222222222222,\"#7201a8\"],[0.3333333333333333,\"#9c179e\"],[0.4444444444444444,\"#bd3786\"],[0.5555555555555556,\"#d8576b\"],[0.6666666666666666,\"#ed7953\"],[0.7777777777777778,\"#fb9f3a\"],[0.8888888888888888,\"#fdca26\"],[1.0,\"#f0f921\"]]}],\"heatmap\":[{\"type\":\"heatmap\",\"colorbar\":{\"outlinewidth\":0,\"ticks\":\"\"},\"colorscale\":[[0.0,\"#0d0887\"],[0.1111111111111111,\"#46039f\"],[0.2222222222222222,\"#7201a8\"],[0.3333333333333333,\"#9c179e\"],[0.4444444444444444,\"#bd3786\"],[0.5555555555555556,\"#d8576b\"],[0.6666666666666666,\"#ed7953\"],[0.7777777777777778,\"#fb9f3a\"],[0.8888888888888888,\"#fdca26\"],[1.0,\"#f0f921\"]]}],\"heatmapgl\":[{\"type\":\"heatmapgl\",\"colorbar\":{\"outlinewidth\":0,\"ticks\":\"\"},\"colorscale\":[[0.0,\"#0d0887\"],[0.1111111111111111,\"#46039f\"],[0.2222222222222222,\"#7201a8\"],[0.3333333333333333,\"#9c179e\"],[0.4444444444444444,\"#bd3786\"],[0.5555555555555556,\"#d8576b\"],[0.6666666666666666,\"#ed7953\"],[0.7777777777777778,\"#fb9f3a\"],[0.8888888888888888,\"#fdca26\"],[1.0,\"#f0f921\"]]}],\"contourcarpet\":[{\"type\":\"contourcarpet\",\"colorbar\":{\"outlinewidth\":0,\"ticks\":\"\"}}],\"contour\":[{\"type\":\"contour\",\"colorbar\":{\"outlinewidth\":0,\"ticks\":\"\"},\"colorscale\":[[0.0,\"#0d0887\"],[0.1111111111111111,\"#46039f\"],[0.2222222222222222,\"#7201a8\"],[0.3333333333333333,\"#9c179e\"],[0.4444444444444444,\"#bd3786\"],[0.5555555555555556,\"#d8576b\"],[0.6666666666666666,\"#ed7953\"],[0.7777777777777778,\"#fb9f3a\"],[0.8888888888888888,\"#fdca26\"],[1.0,\"#f0f921\"]]}],\"surface\":[{\"type\":\"surface\",\"colorbar\":{\"outlinewidth\":0,\"ticks\":\"\"},\"colorscale\":[[0.0,\"#0d0887\"],[0.1111111111111111,\"#46039f\"],[0.2222222222222222,\"#7201a8\"],[0.3333333333333333,\"#9c179e\"],[0.4444444444444444,\"#bd3786\"],[0.5555555555555556,\"#d8576b\"],[0.6666666666666666,\"#ed7953\"],[0.7777777777777778,\"#fb9f3a\"],[0.8888888888888888,\"#fdca26\"],[1.0,\"#f0f921\"]]}],\"mesh3d\":[{\"type\":\"mesh3d\",\"colorbar\":{\"outlinewidth\":0,\"ticks\":\"\"}}],\"scatter\":[{\"fillpattern\":{\"fillmode\":\"overlay\",\"size\":10,\"solidity\":0.2},\"type\":\"scatter\"}],\"parcoords\":[{\"type\":\"parcoords\",\"line\":{\"colorbar\":{\"outlinewidth\":0,\"ticks\":\"\"}}}],\"scatterpolargl\":[{\"type\":\"scatterpolargl\",\"marker\":{\"colorbar\":{\"outlinewidth\":0,\"ticks\":\"\"}}}],\"bar\":[{\"error_x\":{\"color\":\"#2a3f5f\"},\"error_y\":{\"color\":\"#2a3f5f\"},\"marker\":{\"line\":{\"color\":\"#E5ECF6\",\"width\":0.5},\"pattern\":{\"fillmode\":\"overlay\",\"size\":10,\"solidity\":0.2}},\"type\":\"bar\"}],\"scattergeo\":[{\"type\":\"scattergeo\",\"marker\":{\"colorbar\":{\"outlinewidth\":0,\"ticks\":\"\"}}}],\"scatterpolar\":[{\"type\":\"scatterpolar\",\"marker\":{\"colorbar\":{\"outlinewidth\":0,\"ticks\":\"\"}}}],\"histogram\":[{\"marker\":{\"pattern\":{\"fillmode\":\"overlay\",\"size\":10,\"solidity\":0.2}},\"type\":\"histogram\"}],\"scattergl\":[{\"type\":\"scattergl\",\"marker\":{\"colorbar\":{\"outlinewidth\":0,\"ticks\":\"\"}}}],\"scatter3d\":[{\"type\":\"scatter3d\",\"line\":{\"colorbar\":{\"outlinewidth\":0,\"ticks\":\"\"}},\"marker\":{\"colorbar\":{\"outlinewidth\":0,\"ticks\":\"\"}}}],\"scattermapbox\":[{\"type\":\"scattermapbox\",\"marker\":{\"colorbar\":{\"outlinewidth\":0,\"ticks\":\"\"}}}],\"scatterternary\":[{\"type\":\"scatterternary\",\"marker\":{\"colorbar\":{\"outlinewidth\":0,\"ticks\":\"\"}}}],\"scattercarpet\":[{\"type\":\"scattercarpet\",\"marker\":{\"colorbar\":{\"outlinewidth\":0,\"ticks\":\"\"}}}],\"carpet\":[{\"aaxis\":{\"endlinecolor\":\"#2a3f5f\",\"gridcolor\":\"white\",\"linecolor\":\"white\",\"minorgridcolor\":\"white\",\"startlinecolor\":\"#2a3f5f\"},\"baxis\":{\"endlinecolor\":\"#2a3f5f\",\"gridcolor\":\"white\",\"linecolor\":\"white\",\"minorgridcolor\":\"white\",\"startlinecolor\":\"#2a3f5f\"},\"type\":\"carpet\"}],\"table\":[{\"cells\":{\"fill\":{\"color\":\"#EBF0F8\"},\"line\":{\"color\":\"white\"}},\"header\":{\"fill\":{\"color\":\"#C8D4E3\"},\"line\":{\"color\":\"white\"}},\"type\":\"table\"}],\"barpolar\":[{\"marker\":{\"line\":{\"color\":\"#E5ECF6\",\"width\":0.5},\"pattern\":{\"fillmode\":\"overlay\",\"size\":10,\"solidity\":0.2}},\"type\":\"barpolar\"}],\"pie\":[{\"automargin\":true,\"type\":\"pie\"}]},\"layout\":{\"autotypenumbers\":\"strict\",\"colorway\":[\"#636efa\",\"#EF553B\",\"#00cc96\",\"#ab63fa\",\"#FFA15A\",\"#19d3f3\",\"#FF6692\",\"#B6E880\",\"#FF97FF\",\"#FECB52\"],\"font\":{\"color\":\"#2a3f5f\"},\"hovermode\":\"closest\",\"hoverlabel\":{\"align\":\"left\"},\"paper_bgcolor\":\"white\",\"plot_bgcolor\":\"#E5ECF6\",\"polar\":{\"bgcolor\":\"#E5ECF6\",\"angularaxis\":{\"gridcolor\":\"white\",\"linecolor\":\"white\",\"ticks\":\"\"},\"radialaxis\":{\"gridcolor\":\"white\",\"linecolor\":\"white\",\"ticks\":\"\"}},\"ternary\":{\"bgcolor\":\"#E5ECF6\",\"aaxis\":{\"gridcolor\":\"white\",\"linecolor\":\"white\",\"ticks\":\"\"},\"baxis\":{\"gridcolor\":\"white\",\"linecolor\":\"white\",\"ticks\":\"\"},\"caxis\":{\"gridcolor\":\"white\",\"linecolor\":\"white\",\"ticks\":\"\"}},\"coloraxis\":{\"colorbar\":{\"outlinewidth\":0,\"ticks\":\"\"}},\"colorscale\":{\"sequential\":[[0.0,\"#0d0887\"],[0.1111111111111111,\"#46039f\"],[0.2222222222222222,\"#7201a8\"],[0.3333333333333333,\"#9c179e\"],[0.4444444444444444,\"#bd3786\"],[0.5555555555555556,\"#d8576b\"],[0.6666666666666666,\"#ed7953\"],[0.7777777777777778,\"#fb9f3a\"],[0.8888888888888888,\"#fdca26\"],[1.0,\"#f0f921\"]],\"sequentialminus\":[[0.0,\"#0d0887\"],[0.1111111111111111,\"#46039f\"],[0.2222222222222222,\"#7201a8\"],[0.3333333333333333,\"#9c179e\"],[0.4444444444444444,\"#bd3786\"],[0.5555555555555556,\"#d8576b\"],[0.6666666666666666,\"#ed7953\"],[0.7777777777777778,\"#fb9f3a\"],[0.8888888888888888,\"#fdca26\"],[1.0,\"#f0f921\"]],\"diverging\":[[0,\"#8e0152\"],[0.1,\"#c51b7d\"],[0.2,\"#de77ae\"],[0.3,\"#f1b6da\"],[0.4,\"#fde0ef\"],[0.5,\"#f7f7f7\"],[0.6,\"#e6f5d0\"],[0.7,\"#b8e186\"],[0.8,\"#7fbc41\"],[0.9,\"#4d9221\"],[1,\"#276419\"]]},\"xaxis\":{\"gridcolor\":\"white\",\"linecolor\":\"white\",\"ticks\":\"\",\"title\":{\"standoff\":15},\"zerolinecolor\":\"white\",\"automargin\":true,\"zerolinewidth\":2},\"yaxis\":{\"gridcolor\":\"white\",\"linecolor\":\"white\",\"ticks\":\"\",\"title\":{\"standoff\":15},\"zerolinecolor\":\"white\",\"automargin\":true,\"zerolinewidth\":2},\"scene\":{\"xaxis\":{\"backgroundcolor\":\"#E5ECF6\",\"gridcolor\":\"white\",\"linecolor\":\"white\",\"showbackground\":true,\"ticks\":\"\",\"zerolinecolor\":\"white\",\"gridwidth\":2},\"yaxis\":{\"backgroundcolor\":\"#E5ECF6\",\"gridcolor\":\"white\",\"linecolor\":\"white\",\"showbackground\":true,\"ticks\":\"\",\"zerolinecolor\":\"white\",\"gridwidth\":2},\"zaxis\":{\"backgroundcolor\":\"#E5ECF6\",\"gridcolor\":\"white\",\"linecolor\":\"white\",\"showbackground\":true,\"ticks\":\"\",\"zerolinecolor\":\"white\",\"gridwidth\":2}},\"shapedefaults\":{\"line\":{\"color\":\"#2a3f5f\"}},\"annotationdefaults\":{\"arrowcolor\":\"#2a3f5f\",\"arrowhead\":0,\"arrowwidth\":1},\"geo\":{\"bgcolor\":\"white\",\"landcolor\":\"#E5ECF6\",\"subunitcolor\":\"white\",\"showland\":true,\"showlakes\":true,\"lakecolor\":\"white\"},\"title\":{\"x\":0.05},\"mapbox\":{\"style\":\"light\"}}},\"scene\":{\"domain\":{\"x\":[0.0,1.0],\"y\":[0.0,1.0]},\"xaxis\":{\"title\":{\"text\":\"x\"}},\"yaxis\":{\"title\":{\"text\":\"y\"}},\"zaxis\":{\"title\":{\"text\":\"z\"}}},\"legend\":{\"tracegroupgap\":0},\"margin\":{\"t\":60}},                        {\"responsive\": true}                    ).then(function(){\n",
              "                            \n",
              "var gd = document.getElementById('b048b15e-b322-4be8-9071-5a5470ada689');\n",
              "var x = new MutationObserver(function (mutations, observer) {{\n",
              "        var display = window.getComputedStyle(gd).display;\n",
              "        if (!display || display === 'none') {{\n",
              "            console.log([gd, 'removed!']);\n",
              "            Plotly.purge(gd);\n",
              "            observer.disconnect();\n",
              "        }}\n",
              "}});\n",
              "\n",
              "// Listen for the removal of the full notebook cells\n",
              "var notebookContainer = gd.closest('#notebook-container');\n",
              "if (notebookContainer) {{\n",
              "    x.observe(notebookContainer, {childList: true});\n",
              "}}\n",
              "\n",
              "// Listen for the clearing of the current output cell\n",
              "var outputEl = gd.closest('.output');\n",
              "if (outputEl) {{\n",
              "    x.observe(outputEl, {childList: true});\n",
              "}}\n",
              "\n",
              "                        })                };                            </script>        </div>\n",
              "</body>\n",
              "</html>"
            ]
          },
          "metadata": {}
        }
      ]
    },
    {
      "cell_type": "markdown",
      "source": [
        "En el grafico 3D notamos que las palabras relacionadas a los dias, como son \"hours\" \"day\" \"long\". Sabemos que en esencia la distribucion quedo correcta y a pesar de que no encontre ciertas proximidades que esperaba como por ejemplo \"carlo\" y \"marx\" estan bastante alejadas y no cerca como se esperaria siendo que es el nombre de un personaje \"carlo marx\" pero quiza eso se deba a que la contextualizacion de ambas palabras terminan separandolas."
      ],
      "metadata": {
        "id": "KIlBg-3Anxri"
      }
    }
  ]
}
